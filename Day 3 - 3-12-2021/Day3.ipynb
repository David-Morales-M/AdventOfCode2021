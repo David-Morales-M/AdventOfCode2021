{
  "nbformat": 4,
  "nbformat_minor": 0,
  "metadata": {
    "colab": {
      "name": "Day3.ipynb",
      "provenance": [],
      "collapsed_sections": []
    },
    "kernelspec": {
      "name": "python3",
      "display_name": "Python 3"
    },
    "language_info": {
      "name": "python"
    }
  },
  "cells": [
    {
      "cell_type": "code",
      "metadata": {
        "id": "97CfJjnwn6yD"
      },
      "source": [
        "# Importar Librerias\n",
        "from google.colab import files\n",
        "import numpy as np "
      ],
      "execution_count": 19,
      "outputs": []
    },
    {
      "cell_type": "code",
      "metadata": {
        "colab": {
          "resources": {
            "http://localhost:8080/nbextensions/google.colab/files.js": {
              "data": "Ly8gQ29weXJpZ2h0IDIwMTcgR29vZ2xlIExMQwovLwovLyBMaWNlbnNlZCB1bmRlciB0aGUgQXBhY2hlIExpY2Vuc2UsIFZlcnNpb24gMi4wICh0aGUgIkxpY2Vuc2UiKTsKLy8geW91IG1heSBub3QgdXNlIHRoaXMgZmlsZSBleGNlcHQgaW4gY29tcGxpYW5jZSB3aXRoIHRoZSBMaWNlbnNlLgovLyBZb3UgbWF5IG9idGFpbiBhIGNvcHkgb2YgdGhlIExpY2Vuc2UgYXQKLy8KLy8gICAgICBodHRwOi8vd3d3LmFwYWNoZS5vcmcvbGljZW5zZXMvTElDRU5TRS0yLjAKLy8KLy8gVW5sZXNzIHJlcXVpcmVkIGJ5IGFwcGxpY2FibGUgbGF3IG9yIGFncmVlZCB0byBpbiB3cml0aW5nLCBzb2Z0d2FyZQovLyBkaXN0cmlidXRlZCB1bmRlciB0aGUgTGljZW5zZSBpcyBkaXN0cmlidXRlZCBvbiBhbiAiQVMgSVMiIEJBU0lTLAovLyBXSVRIT1VUIFdBUlJBTlRJRVMgT1IgQ09ORElUSU9OUyBPRiBBTlkgS0lORCwgZWl0aGVyIGV4cHJlc3Mgb3IgaW1wbGllZC4KLy8gU2VlIHRoZSBMaWNlbnNlIGZvciB0aGUgc3BlY2lmaWMgbGFuZ3VhZ2UgZ292ZXJuaW5nIHBlcm1pc3Npb25zIGFuZAovLyBsaW1pdGF0aW9ucyB1bmRlciB0aGUgTGljZW5zZS4KCi8qKgogKiBAZmlsZW92ZXJ2aWV3IEhlbHBlcnMgZm9yIGdvb2dsZS5jb2xhYiBQeXRob24gbW9kdWxlLgogKi8KKGZ1bmN0aW9uKHNjb3BlKSB7CmZ1bmN0aW9uIHNwYW4odGV4dCwgc3R5bGVBdHRyaWJ1dGVzID0ge30pIHsKICBjb25zdCBlbGVtZW50ID0gZG9jdW1lbnQuY3JlYXRlRWxlbWVudCgnc3BhbicpOwogIGVsZW1lbnQudGV4dENvbnRlbnQgPSB0ZXh0OwogIGZvciAoY29uc3Qga2V5IG9mIE9iamVjdC5rZXlzKHN0eWxlQXR0cmlidXRlcykpIHsKICAgIGVsZW1lbnQuc3R5bGVba2V5XSA9IHN0eWxlQXR0cmlidXRlc1trZXldOwogIH0KICByZXR1cm4gZWxlbWVudDsKfQoKLy8gTWF4IG51bWJlciBvZiBieXRlcyB3aGljaCB3aWxsIGJlIHVwbG9hZGVkIGF0IGEgdGltZS4KY29uc3QgTUFYX1BBWUxPQURfU0laRSA9IDEwMCAqIDEwMjQ7CgpmdW5jdGlvbiBfdXBsb2FkRmlsZXMoaW5wdXRJZCwgb3V0cHV0SWQpIHsKICBjb25zdCBzdGVwcyA9IHVwbG9hZEZpbGVzU3RlcChpbnB1dElkLCBvdXRwdXRJZCk7CiAgY29uc3Qgb3V0cHV0RWxlbWVudCA9IGRvY3VtZW50LmdldEVsZW1lbnRCeUlkKG91dHB1dElkKTsKICAvLyBDYWNoZSBzdGVwcyBvbiB0aGUgb3V0cHV0RWxlbWVudCB0byBtYWtlIGl0IGF2YWlsYWJsZSBmb3IgdGhlIG5leHQgY2FsbAogIC8vIHRvIHVwbG9hZEZpbGVzQ29udGludWUgZnJvbSBQeXRob24uCiAgb3V0cHV0RWxlbWVudC5zdGVwcyA9IHN0ZXBzOwoKICByZXR1cm4gX3VwbG9hZEZpbGVzQ29udGludWUob3V0cHV0SWQpOwp9CgovLyBUaGlzIGlzIHJvdWdobHkgYW4gYXN5bmMgZ2VuZXJhdG9yIChub3Qgc3VwcG9ydGVkIGluIHRoZSBicm93c2VyIHlldCksCi8vIHdoZXJlIHRoZXJlIGFyZSBtdWx0aXBsZSBhc3luY2hyb25vdXMgc3RlcHMgYW5kIHRoZSBQeXRob24gc2lkZSBpcyBnb2luZwovLyB0byBwb2xsIGZvciBjb21wbGV0aW9uIG9mIGVhY2ggc3RlcC4KLy8gVGhpcyB1c2VzIGEgUHJvbWlzZSB0byBibG9jayB0aGUgcHl0aG9uIHNpZGUgb24gY29tcGxldGlvbiBvZiBlYWNoIHN0ZXAsCi8vIHRoZW4gcGFzc2VzIHRoZSByZXN1bHQgb2YgdGhlIHByZXZpb3VzIHN0ZXAgYXMgdGhlIGlucHV0IHRvIHRoZSBuZXh0IHN0ZXAuCmZ1bmN0aW9uIF91cGxvYWRGaWxlc0NvbnRpbnVlKG91dHB1dElkKSB7CiAgY29uc3Qgb3V0cHV0RWxlbWVudCA9IGRvY3VtZW50LmdldEVsZW1lbnRCeUlkKG91dHB1dElkKTsKICBjb25zdCBzdGVwcyA9IG91dHB1dEVsZW1lbnQuc3RlcHM7CgogIGNvbnN0IG5leHQgPSBzdGVwcy5uZXh0KG91dHB1dEVsZW1lbnQubGFzdFByb21pc2VWYWx1ZSk7CiAgcmV0dXJuIFByb21pc2UucmVzb2x2ZShuZXh0LnZhbHVlLnByb21pc2UpLnRoZW4oKHZhbHVlKSA9PiB7CiAgICAvLyBDYWNoZSB0aGUgbGFzdCBwcm9taXNlIHZhbHVlIHRvIG1ha2UgaXQgYXZhaWxhYmxlIHRvIHRoZSBuZXh0CiAgICAvLyBzdGVwIG9mIHRoZSBnZW5lcmF0b3IuCiAgICBvdXRwdXRFbGVtZW50Lmxhc3RQcm9taXNlVmFsdWUgPSB2YWx1ZTsKICAgIHJldHVybiBuZXh0LnZhbHVlLnJlc3BvbnNlOwogIH0pOwp9CgovKioKICogR2VuZXJhdG9yIGZ1bmN0aW9uIHdoaWNoIGlzIGNhbGxlZCBiZXR3ZWVuIGVhY2ggYXN5bmMgc3RlcCBvZiB0aGUgdXBsb2FkCiAqIHByb2Nlc3MuCiAqIEBwYXJhbSB7c3RyaW5nfSBpbnB1dElkIEVsZW1lbnQgSUQgb2YgdGhlIGlucHV0IGZpbGUgcGlja2VyIGVsZW1lbnQuCiAqIEBwYXJhbSB7c3RyaW5nfSBvdXRwdXRJZCBFbGVtZW50IElEIG9mIHRoZSBvdXRwdXQgZGlzcGxheS4KICogQHJldHVybiB7IUl0ZXJhYmxlPCFPYmplY3Q+fSBJdGVyYWJsZSBvZiBuZXh0IHN0ZXBzLgogKi8KZnVuY3Rpb24qIHVwbG9hZEZpbGVzU3RlcChpbnB1dElkLCBvdXRwdXRJZCkgewogIGNvbnN0IGlucHV0RWxlbWVudCA9IGRvY3VtZW50LmdldEVsZW1lbnRCeUlkKGlucHV0SWQpOwogIGlucHV0RWxlbWVudC5kaXNhYmxlZCA9IGZhbHNlOwoKICBjb25zdCBvdXRwdXRFbGVtZW50ID0gZG9jdW1lbnQuZ2V0RWxlbWVudEJ5SWQob3V0cHV0SWQpOwogIG91dHB1dEVsZW1lbnQuaW5uZXJIVE1MID0gJyc7CgogIGNvbnN0IHBpY2tlZFByb21pc2UgPSBuZXcgUHJvbWlzZSgocmVzb2x2ZSkgPT4gewogICAgaW5wdXRFbGVtZW50LmFkZEV2ZW50TGlzdGVuZXIoJ2NoYW5nZScsIChlKSA9PiB7CiAgICAgIHJlc29sdmUoZS50YXJnZXQuZmlsZXMpOwogICAgfSk7CiAgfSk7CgogIGNvbnN0IGNhbmNlbCA9IGRvY3VtZW50LmNyZWF0ZUVsZW1lbnQoJ2J1dHRvbicpOwogIGlucHV0RWxlbWVudC5wYXJlbnRFbGVtZW50LmFwcGVuZENoaWxkKGNhbmNlbCk7CiAgY2FuY2VsLnRleHRDb250ZW50ID0gJ0NhbmNlbCB1cGxvYWQnOwogIGNvbnN0IGNhbmNlbFByb21pc2UgPSBuZXcgUHJvbWlzZSgocmVzb2x2ZSkgPT4gewogICAgY2FuY2VsLm9uY2xpY2sgPSAoKSA9PiB7CiAgICAgIHJlc29sdmUobnVsbCk7CiAgICB9OwogIH0pOwoKICAvLyBXYWl0IGZvciB0aGUgdXNlciB0byBwaWNrIHRoZSBmaWxlcy4KICBjb25zdCBmaWxlcyA9IHlpZWxkIHsKICAgIHByb21pc2U6IFByb21pc2UucmFjZShbcGlja2VkUHJvbWlzZSwgY2FuY2VsUHJvbWlzZV0pLAogICAgcmVzcG9uc2U6IHsKICAgICAgYWN0aW9uOiAnc3RhcnRpbmcnLAogICAgfQogIH07CgogIGNhbmNlbC5yZW1vdmUoKTsKCiAgLy8gRGlzYWJsZSB0aGUgaW5wdXQgZWxlbWVudCBzaW5jZSBmdXJ0aGVyIHBpY2tzIGFyZSBub3QgYWxsb3dlZC4KICBpbnB1dEVsZW1lbnQuZGlzYWJsZWQgPSB0cnVlOwoKICBpZiAoIWZpbGVzKSB7CiAgICByZXR1cm4gewogICAgICByZXNwb25zZTogewogICAgICAgIGFjdGlvbjogJ2NvbXBsZXRlJywKICAgICAgfQogICAgfTsKICB9CgogIGZvciAoY29uc3QgZmlsZSBvZiBmaWxlcykgewogICAgY29uc3QgbGkgPSBkb2N1bWVudC5jcmVhdGVFbGVtZW50KCdsaScpOwogICAgbGkuYXBwZW5kKHNwYW4oZmlsZS5uYW1lLCB7Zm9udFdlaWdodDogJ2JvbGQnfSkpOwogICAgbGkuYXBwZW5kKHNwYW4oCiAgICAgICAgYCgke2ZpbGUudHlwZSB8fCAnbi9hJ30pIC0gJHtmaWxlLnNpemV9IGJ5dGVzLCBgICsKICAgICAgICBgbGFzdCBtb2RpZmllZDogJHsKICAgICAgICAgICAgZmlsZS5sYXN0TW9kaWZpZWREYXRlID8gZmlsZS5sYXN0TW9kaWZpZWREYXRlLnRvTG9jYWxlRGF0ZVN0cmluZygpIDoKICAgICAgICAgICAgICAgICAgICAgICAgICAgICAgICAgICAgJ24vYSd9IC0gYCkpOwogICAgY29uc3QgcGVyY2VudCA9IHNwYW4oJzAlIGRvbmUnKTsKICAgIGxpLmFwcGVuZENoaWxkKHBlcmNlbnQpOwoKICAgIG91dHB1dEVsZW1lbnQuYXBwZW5kQ2hpbGQobGkpOwoKICAgIGNvbnN0IGZpbGVEYXRhUHJvbWlzZSA9IG5ldyBQcm9taXNlKChyZXNvbHZlKSA9PiB7CiAgICAgIGNvbnN0IHJlYWRlciA9IG5ldyBGaWxlUmVhZGVyKCk7CiAgICAgIHJlYWRlci5vbmxvYWQgPSAoZSkgPT4gewogICAgICAgIHJlc29sdmUoZS50YXJnZXQucmVzdWx0KTsKICAgICAgfTsKICAgICAgcmVhZGVyLnJlYWRBc0FycmF5QnVmZmVyKGZpbGUpOwogICAgfSk7CiAgICAvLyBXYWl0IGZvciB0aGUgZGF0YSB0byBiZSByZWFkeS4KICAgIGxldCBmaWxlRGF0YSA9IHlpZWxkIHsKICAgICAgcHJvbWlzZTogZmlsZURhdGFQcm9taXNlLAogICAgICByZXNwb25zZTogewogICAgICAgIGFjdGlvbjogJ2NvbnRpbnVlJywKICAgICAgfQogICAgfTsKCiAgICAvLyBVc2UgYSBjaHVua2VkIHNlbmRpbmcgdG8gYXZvaWQgbWVzc2FnZSBzaXplIGxpbWl0cy4gU2VlIGIvNjIxMTU2NjAuCiAgICBsZXQgcG9zaXRpb24gPSAwOwogICAgZG8gewogICAgICBjb25zdCBsZW5ndGggPSBNYXRoLm1pbihmaWxlRGF0YS5ieXRlTGVuZ3RoIC0gcG9zaXRpb24sIE1BWF9QQVlMT0FEX1NJWkUpOwogICAgICBjb25zdCBjaHVuayA9IG5ldyBVaW50OEFycmF5KGZpbGVEYXRhLCBwb3NpdGlvbiwgbGVuZ3RoKTsKICAgICAgcG9zaXRpb24gKz0gbGVuZ3RoOwoKICAgICAgY29uc3QgYmFzZTY0ID0gYnRvYShTdHJpbmcuZnJvbUNoYXJDb2RlLmFwcGx5KG51bGwsIGNodW5rKSk7CiAgICAgIHlpZWxkIHsKICAgICAgICByZXNwb25zZTogewogICAgICAgICAgYWN0aW9uOiAnYXBwZW5kJywKICAgICAgICAgIGZpbGU6IGZpbGUubmFtZSwKICAgICAgICAgIGRhdGE6IGJhc2U2NCwKICAgICAgICB9LAogICAgICB9OwoKICAgICAgbGV0IHBlcmNlbnREb25lID0gZmlsZURhdGEuYnl0ZUxlbmd0aCA9PT0gMCA/CiAgICAgICAgICAxMDAgOgogICAgICAgICAgTWF0aC5yb3VuZCgocG9zaXRpb24gLyBmaWxlRGF0YS5ieXRlTGVuZ3RoKSAqIDEwMCk7CiAgICAgIHBlcmNlbnQudGV4dENvbnRlbnQgPSBgJHtwZXJjZW50RG9uZX0lIGRvbmVgOwoKICAgIH0gd2hpbGUgKHBvc2l0aW9uIDwgZmlsZURhdGEuYnl0ZUxlbmd0aCk7CiAgfQoKICAvLyBBbGwgZG9uZS4KICB5aWVsZCB7CiAgICByZXNwb25zZTogewogICAgICBhY3Rpb246ICdjb21wbGV0ZScsCiAgICB9CiAgfTsKfQoKc2NvcGUuZ29vZ2xlID0gc2NvcGUuZ29vZ2xlIHx8IHt9OwpzY29wZS5nb29nbGUuY29sYWIgPSBzY29wZS5nb29nbGUuY29sYWIgfHwge307CnNjb3BlLmdvb2dsZS5jb2xhYi5fZmlsZXMgPSB7CiAgX3VwbG9hZEZpbGVzLAogIF91cGxvYWRGaWxlc0NvbnRpbnVlLAp9Owp9KShzZWxmKTsK",
              "ok": true,
              "headers": [
                [
                  "content-type",
                  "application/javascript"
                ]
              ],
              "status": 200,
              "status_text": ""
            }
          },
          "base_uri": "https://localhost:8080/",
          "height": 111
        },
        "id": "ACE9uYUmt9vE",
        "outputId": "e558e6af-63ed-44af-85f0-ee77c0e71477"
      },
      "source": [
        "# Subir Archivos\n",
        "files.upload()  "
      ],
      "execution_count": 21,
      "outputs": [
        {
          "output_type": "display_data",
          "data": {
            "text/html": [
              "\n",
              "     <input type=\"file\" id=\"files-529afe91-1eb4-4518-ba74-08a3ef758ab5\" name=\"files[]\" multiple disabled\n",
              "        style=\"border:none\" />\n",
              "     <output id=\"result-529afe91-1eb4-4518-ba74-08a3ef758ab5\">\n",
              "      Upload widget is only available when the cell has been executed in the\n",
              "      current browser session. Please rerun this cell to enable.\n",
              "      </output>\n",
              "      <script src=\"/nbextensions/google.colab/files.js\"></script> "
            ],
            "text/plain": [
              "<IPython.core.display.HTML object>"
            ]
          },
          "metadata": {}
        },
        {
          "output_type": "stream",
          "name": "stdout",
          "text": [
            "Saving Data.txt to Data.txt\n"
          ]
        },
        {
          "output_type": "execute_result",
          "data": {
            "text/plain": [
              "{'Data.txt': b'111100000101\\r\\n001110100010\\r\\n101110110011\\r\\n100000001101\\r\\n001101010011\\r\\n101111110000\\r\\n011101110001\\r\\n000000010111\\r\\n011011000010\\r\\n110110010000\\r\\n011101000000\\r\\n110010001001\\r\\n101110100111\\r\\n001001101111\\r\\n101001011010\\r\\n101001000001\\r\\n101110111101\\r\\n010100101100\\r\\n001000110010\\r\\n010100011110\\r\\n100100000001\\r\\n000110011000\\r\\n110100100001\\r\\n111000110000\\r\\n000111100100\\r\\n101100110100\\r\\n101111101001\\r\\n101110101001\\r\\n010010110001\\r\\n000111100001\\r\\n001100001000\\r\\n100011101001\\r\\n100010111000\\r\\n000001011000\\r\\n001011110100\\r\\n011110010001\\r\\n110000011010\\r\\n100011011111\\r\\n001001110101\\r\\n001010000101\\r\\n100000010010\\r\\n000011100010\\r\\n101010110101\\r\\n001110000101\\r\\n000111101101\\r\\n010100101010\\r\\n101111101011\\r\\n010001100000\\r\\n110101100010\\r\\n001001001111\\r\\n001101011010\\r\\n111010010101\\r\\n110001000011\\r\\n000011110100\\r\\n100010111101\\r\\n111100101110\\r\\n110110001101\\r\\n001000011011\\r\\n101110101110\\r\\n111011101110\\r\\n010000110001\\r\\n101111011111\\r\\n000001001110\\r\\n111101100011\\r\\n000100000000\\r\\n100001001111\\r\\n110010000010\\r\\n101111010011\\r\\n010000101000\\r\\n011010101111\\r\\n110101101100\\r\\n101101011100\\r\\n100101111101\\r\\n011101011110\\r\\n111001001000\\r\\n100111001101\\r\\n101101000100\\r\\n110111111010\\r\\n011001101001\\r\\n111101010110\\r\\n001111001110\\r\\n111100010111\\r\\n000100111100\\r\\n011100101001\\r\\n111100111100\\r\\n101000011100\\r\\n011100111100\\r\\n011010110010\\r\\n101111101101\\r\\n010111101010\\r\\n001011000111\\r\\n000010011111\\r\\n101000100110\\r\\n000100110101\\r\\n100101001100\\r\\n010100110110\\r\\n011111100110\\r\\n000000101011\\r\\n111111101110\\r\\n001011101101\\r\\n000010001101\\r\\n001100100100\\r\\n101010010111\\r\\n100010011001\\r\\n010100000110\\r\\n010000001101\\r\\n010001101011\\r\\n000111111001\\r\\n101110010010\\r\\n011100101000\\r\\n010101010001\\r\\n111011110111\\r\\n000010110001\\r\\n101111000111\\r\\n001101110000\\r\\n111111011011\\r\\n100010011010\\r\\n001011011010\\r\\n110111001001\\r\\n110101110100\\r\\n101100111100\\r\\n011110101010\\r\\n010000001010\\r\\n001111100001\\r\\n000110000110\\r\\n111010111010\\r\\n101110100100\\r\\n000001110010\\r\\n110111001101\\r\\n000001101000\\r\\n000010001111\\r\\n110000100011\\r\\n000000001001\\r\\n000111111110\\r\\n111101111010\\r\\n010110101010\\r\\n110101011111\\r\\n000111000110\\r\\n111001100001\\r\\n101111100000\\r\\n011011010111\\r\\n101011010111\\r\\n110011101111\\r\\n001110001111\\r\\n010001100100\\r\\n111001010000\\r\\n100111000100\\r\\n110101010100\\r\\n000011111101\\r\\n100010010000\\r\\n110110100100\\r\\n100111011110\\r\\n101011001101\\r\\n111011100110\\r\\n100000010000\\r\\n110000001111\\r\\n001000000111\\r\\n111011011011\\r\\n101111101000\\r\\n001110001010\\r\\n100110000000\\r\\n110001100110\\r\\n011110100010\\r\\n000001010110\\r\\n010100000101\\r\\n101010101010\\r\\n001101000110\\r\\n110100001111\\r\\n110000001101\\r\\n101101000000\\r\\n101101101011\\r\\n111001100101\\r\\n101010001111\\r\\n101101001101\\r\\n010111101011\\r\\n101000101101\\r\\n001010000111\\r\\n011110111001\\r\\n001011101000\\r\\n101101000010\\r\\n110111111110\\r\\n110001011011\\r\\n101111101100\\r\\n101110110101\\r\\n101100111101\\r\\n001110001101\\r\\n010111000110\\r\\n110101110110\\r\\n101001101001\\r\\n010100001000\\r\\n011011111110\\r\\n111010010001\\r\\n101110100000\\r\\n000101111100\\r\\n001111110111\\r\\n001010110011\\r\\n010011011001\\r\\n101111100001\\r\\n100101111110\\r\\n010001010011\\r\\n001101110001\\r\\n011100001000\\r\\n101100000101\\r\\n000111111101\\r\\n010101110000\\r\\n100110001100\\r\\n010101111100\\r\\n100101110100\\r\\n110111000001\\r\\n101110101000\\r\\n000011010000\\r\\n101011110101\\r\\n100011110100\\r\\n111100010110\\r\\n110100011001\\r\\n001001001100\\r\\n010110111000\\r\\n001000101111\\r\\n111101001110\\r\\n011110000011\\r\\n000111000100\\r\\n001101110101\\r\\n110111011101\\r\\n100000111001\\r\\n100000001001\\r\\n110110111011\\r\\n010011000110\\r\\n000100010101\\r\\n100101010001\\r\\n100100101100\\r\\n010001001100\\r\\n000010001010\\r\\n101100101101\\r\\n011011101111\\r\\n100010111011\\r\\n111111101111\\r\\n110001100001\\r\\n101011101111\\r\\n000100011101\\r\\n111000010001\\r\\n000001011001\\r\\n001101111101\\r\\n001000000001\\r\\n010100010100\\r\\n110010111011\\r\\n010100100011\\r\\n001010001010\\r\\n111111011010\\r\\n100101010101\\r\\n000111000010\\r\\n011010100000\\r\\n010100111111\\r\\n001011100010\\r\\n101010001011\\r\\n111011010101\\r\\n100100100111\\r\\n101110101010\\r\\n111100101001\\r\\n111010001000\\r\\n000100001111\\r\\n011010001000\\r\\n011011100100\\r\\n110011011111\\r\\n110111100010\\r\\n000100001100\\r\\n001001101101\\r\\n110111110011\\r\\n101111001001\\r\\n101010001001\\r\\n011011000111\\r\\n000110001001\\r\\n111011001010\\r\\n000110000100\\r\\n000000111011\\r\\n010110110110\\r\\n101000000000\\r\\n011100101111\\r\\n111101111000\\r\\n001110011100\\r\\n111110011001\\r\\n000010111000\\r\\n010111001100\\r\\n010010111111\\r\\n110101100111\\r\\n000110111010\\r\\n000001111110\\r\\n111000000000\\r\\n001110011101\\r\\n100000111100\\r\\n100010100001\\r\\n010011101100\\r\\n010001101010\\r\\n001001101011\\r\\n110100010100\\r\\n011000000110\\r\\n011000011001\\r\\n010001101111\\r\\n000101001111\\r\\n011101111101\\r\\n100010010011\\r\\n100101111000\\r\\n001101110111\\r\\n001000000000\\r\\n100100101011\\r\\n111000100011\\r\\n101100011011\\r\\n000000101101\\r\\n001110010011\\r\\n001010010000\\r\\n011000001110\\r\\n101011111001\\r\\n110101100000\\r\\n011011111010\\r\\n001000011111\\r\\n011000100000\\r\\n000010101100\\r\\n111100010011\\r\\n101010000011\\r\\n001100111111\\r\\n000001111000\\r\\n111101110101\\r\\n001010100111\\r\\n011100111111\\r\\n111010111000\\r\\n100101011111\\r\\n011100001101\\r\\n001011000011\\r\\n110001110110\\r\\n000011101000\\r\\n111110010111\\r\\n100010101101\\r\\n110001011101\\r\\n011010100010\\r\\n001110000011\\r\\n101001101111\\r\\n100110100100\\r\\n011010000111\\r\\n001111010011\\r\\n110111101111\\r\\n110101100101\\r\\n100011010000\\r\\n011110000100\\r\\n010110100010\\r\\n011000111001\\r\\n011111011010\\r\\n011110110101\\r\\n011011110111\\r\\n001111100101\\r\\n101110100110\\r\\n101010100000\\r\\n110100001100\\r\\n111010110101\\r\\n011010001111\\r\\n000010111110\\r\\n100110010111\\r\\n011100011011\\r\\n100101100011\\r\\n010110111100\\r\\n010011110111\\r\\n111001011101\\r\\n000011111100\\r\\n000111111111\\r\\n101000111010\\r\\n010110110011\\r\\n100110101111\\r\\n100010111010\\r\\n111001111111\\r\\n000110110011\\r\\n010010111101\\r\\n110001100011\\r\\n111100001000\\r\\n010011000011\\r\\n011011101011\\r\\n001010101101\\r\\n100011010011\\r\\n001100101110\\r\\n111000111111\\r\\n101001011101\\r\\n111011010011\\r\\n110101011101\\r\\n001011010111\\r\\n011001010100\\r\\n010011010100\\r\\n011100100110\\r\\n101111110001\\r\\n110111111101\\r\\n111110100110\\r\\n110001100000\\r\\n010110010011\\r\\n011100110001\\r\\n010111111011\\r\\n001010101000\\r\\n010100101111\\r\\n111101000001\\r\\n100000111010\\r\\n001010100000\\r\\n000001011011\\r\\n100111011101\\r\\n100011110010\\r\\n011111010000\\r\\n111001010110\\r\\n110111111100\\r\\n010110100011\\r\\n101111111010\\r\\n110111110000\\r\\n111100000110\\r\\n111101011110\\r\\n100101111100\\r\\n111110001101\\r\\n111110011110\\r\\n010101100010\\r\\n110101101101\\r\\n111100001101\\r\\n000100011100\\r\\n010011110011\\r\\n000100010100\\r\\n000110110010\\r\\n001010111000\\r\\n110111001111\\r\\n110101000101\\r\\n100011110000\\r\\n101010010010\\r\\n111110000010\\r\\n111011001011\\r\\n010110111010\\r\\n011101010100\\r\\n010010101010\\r\\n010011110001\\r\\n010000010110\\r\\n101111000011\\r\\n111111010100\\r\\n001111001001\\r\\n101001100111\\r\\n000011011111\\r\\n100111000001\\r\\n010111010110\\r\\n010100011100\\r\\n010100011101\\r\\n001111110011\\r\\n101100010111\\r\\n101110100010\\r\\n111101110100\\r\\n100100100010\\r\\n111010011011\\r\\n010110000100\\r\\n100100010100\\r\\n101000011010\\r\\n101001111101\\r\\n010000010001\\r\\n110111101101\\r\\n000001110110\\r\\n010001110100\\r\\n100100110001\\r\\n011111010111\\r\\n100000000110\\r\\n100001110110\\r\\n000001011110\\r\\n011000001100\\r\\n011001110110\\r\\n010010101110\\r\\n111100111000\\r\\n001010010011\\r\\n000001000001\\r\\n100010111001\\r\\n010001011111\\r\\n001110000000\\r\\n000010000000\\r\\n001101110011\\r\\n010100011001\\r\\n000001001010\\r\\n110001000110\\r\\n100010100101\\r\\n011100010001\\r\\n101100000110\\r\\n001001100000\\r\\n110100000000\\r\\n000010100010\\r\\n101101100111\\r\\n100001111011\\r\\n011000011101\\r\\n110100110010\\r\\n001011001101\\r\\n000111001110\\r\\n011100100100\\r\\n100010000100\\r\\n001101100000\\r\\n100010011111\\r\\n010101010111\\r\\n000101010011\\r\\n100011100000\\r\\n100001011101\\r\\n110011111100\\r\\n111010011001\\r\\n001011110111\\r\\n011010010100\\r\\n000011001110\\r\\n010110111001\\r\\n111000001001\\r\\n011100111010\\r\\n011111000010\\r\\n101100111010\\r\\n010100111101\\r\\n111001100100\\r\\n101111010110\\r\\n110111110100\\r\\n111110101010\\r\\n010011001110\\r\\n110101101001\\r\\n111101011000\\r\\n001010001101\\r\\n101111000010\\r\\n111110000111\\r\\n110000001100\\r\\n011111001101\\r\\n101001000101\\r\\n010111001011\\r\\n001010011110\\r\\n111010100100\\r\\n110000101000\\r\\n011101000011\\r\\n010010100110\\r\\n111010000001\\r\\n111101000111\\r\\n001010100101\\r\\n101011001100\\r\\n110010111001\\r\\n111000111100\\r\\n100101011101\\r\\n110010101001\\r\\n010010111000\\r\\n010101001110\\r\\n110000101111\\r\\n001101001101\\r\\n001000101011\\r\\n001110110111\\r\\n101111111011\\r\\n111001100110\\r\\n100101110000\\r\\n010000011011\\r\\n001010000000\\r\\n011001010110\\r\\n010101101010\\r\\n100100000011\\r\\n110010101110\\r\\n110011101000\\r\\n001010001000\\r\\n010000101100\\r\\n100110011110\\r\\n001010001111\\r\\n111010001101\\r\\n100100010000\\r\\n100100111001\\r\\n111111010110\\r\\n100010011101\\r\\n110100100100\\r\\n000110011101\\r\\n000101101001\\r\\n001011001100\\r\\n101000000001\\r\\n111101100000\\r\\n110110111000\\r\\n111111000010\\r\\n001010111011\\r\\n011011111000\\r\\n010111000101\\r\\n011100110011\\r\\n111111100010\\r\\n000000100010\\r\\n001000011110\\r\\n010001011001\\r\\n111100111101\\r\\n001111010010\\r\\n010110011011\\r\\n111110001110\\r\\n101111100100\\r\\n011100011101\\r\\n111001111001\\r\\n101001000100\\r\\n001011000110\\r\\n100011010101\\r\\n001101100010\\r\\n110111101110\\r\\n010101111000\\r\\n111010000111\\r\\n000110010111\\r\\n001100111101\\r\\n100000101101\\r\\n000110101000\\r\\n011000011100\\r\\n000101001110\\r\\n011010101100\\r\\n100010010100\\r\\n001001111001\\r\\n101100100000\\r\\n010011011000\\r\\n100110101011\\r\\n110111110110\\r\\n100111001100\\r\\n111010010011\\r\\n000100011110\\r\\n011100011000\\r\\n010000011001\\r\\n100110011010\\r\\n010000001000\\r\\n101010011010\\r\\n111111011100\\r\\n010110100111\\r\\n000110001101\\r\\n001011111000\\r\\n011010111001\\r\\n111011011101\\r\\n110000010110\\r\\n100110111001\\r\\n110010000001\\r\\n110001011110\\r\\n111100001010\\r\\n101110111100\\r\\n110011110100\\r\\n101111011101\\r\\n000101010010\\r\\n001111000110\\r\\n110010011010\\r\\n000010010001\\r\\n001110110110\\r\\n111101100101\\r\\n000000111101\\r\\n011110000110\\r\\n111011001101\\r\\n110111000110\\r\\n101100110101\\r\\n010001001001\\r\\n001010110101\\r\\n101100011010\\r\\n100011001010\\r\\n001011101110\\r\\n101000010110\\r\\n100100111011\\r\\n001011101100\\r\\n111110111010\\r\\n110011111010\\r\\n000001111101\\r\\n010000110111\\r\\n101101101100\\r\\n000110000000\\r\\n111110110100\\r\\n101100000010\\r\\n011000000001\\r\\n001000001001\\r\\n111101111011\\r\\n010100001110\\r\\n111100101000\\r\\n011000010111\\r\\n001000111101\\r\\n100000100101\\r\\n110111000101\\r\\n001111100000\\r\\n101110111001\\r\\n000100101111\\r\\n101011010100\\r\\n101111111001\\r\\n000010000101\\r\\n001100001111\\r\\n101001011001\\r\\n001110111000\\r\\n010011011101\\r\\n110110111001\\r\\n011111010010\\r\\n100111101011\\r\\n101110011000\\r\\n010011100110\\r\\n101111000000\\r\\n101000110111\\r\\n001100000111\\r\\n110001101111\\r\\n010011101010\\r\\n100100000111\\r\\n100011111101\\r\\n010111010010\\r\\n001010111010\\r\\n011111010110\\r\\n101101100101\\r\\n011110001000\\r\\n000100111111\\r\\n001010111100\\r\\n101101100000\\r\\n010010000011\\r\\n010011010111\\r\\n111000011110\\r\\n110111010101\\r\\n100100101000\\r\\n101001001000\\r\\n001111110100\\r\\n111011110101\\r\\n110001000100\\r\\n100111111001\\r\\n101010110100\\r\\n010111101001\\r\\n011011010010\\r\\n011111101010\\r\\n111100111110\\r\\n110011101101\\r\\n110110101101\\r\\n110010100101\\r\\n111110101111\\r\\n000011110011\\r\\n001100001011\\r\\n111110110111\\r\\n011011101100\\r\\n110111101011\\r\\n010111010000\\r\\n101000010111\\r\\n010100010001\\r\\n111101100100\\r\\n011101101010\\r\\n010000110110\\r\\n111001110000\\r\\n111111000100\\r\\n011001100000\\r\\n111100101111\\r\\n011001001011\\r\\n110100100011\\r\\n011001111000\\r\\n101010001100\\r\\n100010001110\\r\\n010111110110\\r\\n001011011111\\r\\n000001011100\\r\\n010010001111\\r\\n011101011000\\r\\n001010011010\\r\\n100010011110\\r\\n010011000111\\r\\n101011011111\\r\\n100101000010\\r\\n110111010111\\r\\n110111101010\\r\\n010100001011\\r\\n001001010011\\r\\n001011001111\\r\\n011000001111\\r\\n010100000111\\r\\n100011001111\\r\\n110100111100\\r\\n101110010000\\r\\n000010110010\\r\\n100010100010\\r\\n001010011000\\r\\n010101100101\\r\\n101100010001\\r\\n011011001010\\r\\n000101100000\\r\\n000101111010\\r\\n001001110010\\r\\n100011100001\\r\\n011110111011\\r\\n100000010111\\r\\n100001001101\\r\\n111000100010\\r\\n011000011000\\r\\n100001100010\\r\\n000000110011\\r\\n000101010111\\r\\n000101000100\\r\\n110111000111\\r\\n001100000000\\r\\n110100010110\\r\\n101001000011\\r\\n110111100100\\r\\n000111100011\\r\\n101110001001\\r\\n000010011101\\r\\n000011010111\\r\\n111101011001\\r\\n111010001111\\r\\n000100110100\\r\\n000011100001\\r\\n100100111000\\r\\n100111101110\\r\\n001110101011\\r\\n000111110100\\r\\n110000010111\\r\\n110010011111\\r\\n000001111111\\r\\n101011110011\\r\\n101100001101\\r\\n110101111011\\r\\n011111000111\\r\\n011110011011\\r\\n001000010110\\r\\n110110110100\\r\\n010101001011\\r\\n000100111000\\r\\n011101111111\\r\\n000111101001\\r\\n110101111010\\r\\n110000111001\\r\\n011000111101\\r\\n001101001010\\r\\n110100110100\\r\\n100110010001\\r\\n100000000100\\r\\n001100111000\\r\\n100000001110\\r\\n101000011000\\r\\n100010110110\\r\\n101011001001\\r\\n010010001010\\r\\n111011101100\\r\\n100010100110\\r\\n101101000111\\r\\n100110110101\\r\\n111001010100\\r\\n101000110000\\r\\n000101011010\\r\\n010001010110\\r\\n010111011110\\r\\n001101011110\\r\\n000100000101\\r\\n000001011101\\r\\n010010100000\\r\\n110110010001\\r\\n100111000111\\r\\n100010110000\\r\\n010110100000\\r\\n110111111111\\r\\n011111011111\\r\\n001011010010\\r\\n001111100011\\r\\n100010110100\\r\\n011010001011\\r\\n110011001010\\r\\n101110111000\\r\\n111001010011\\r\\n010011010101\\r\\n011100100101\\r\\n101010110011\\r\\n001001100101\\r\\n110010100000\\r\\n011000111110\\r\\n011101001110\\r\\n110110000100\\r\\n001111101100\\r\\n101100010100\\r\\n110001100101\\r\\n111111010001\\r\\n011001100001\\r\\n110100000101\\r\\n000000010000\\r\\n110101000111\\r\\n100100110100\\r\\n010010110100\\r\\n010010000100\\r\\n011000111111\\r\\n011001101010\\r\\n011111101110\\r\\n110110010100\\r\\n110001001110\\r\\n111111100011\\r\\n010001100001\\r\\n001001111011\\r\\n000101110010\\r\\n011111110111\\r\\n000011000110\\r\\n110101000001\\r\\n101110000011\\r\\n000000111010\\r\\n000101110011\\r\\n000011100111\\r\\n010010010011\\r\\n110011011010\\r\\n111100100100\\r\\n110010011101\\r\\n100001001000\\r\\n101000110001\\r\\n101001010011\\r\\n111000111101\\r\\n101011111000\\r\\n110011110110\\r\\n111110100011\\r\\n010110100100\\r\\n010101000011\\r\\n001010101100\\r\\n101010101001\\r\\n111100100000\\r\\n001111011111\\r\\n110101010011\\r\\n101111010000\\r\\n110011110010\\r\\n110110110001\\r\\n011010011110\\r\\n100010010101\\r\\n101000101010\\r\\n010111010001\\r\\n000001111100\\r\\n001000011001\\r\\n011110110001\\r\\n110100011000\\r\\n110000111110\\r\\n001001011100\\r\\n110110110101\\r\\n011011100110\\r\\n011110010100\\r\\n111011110110\\r\\n111110111001\\r\\n111010010100\\r\\n001000001011\\r\\n111101010011\\r\\n100111101010\\r\\n010100001100\\r\\n111101111111\\r\\n000111111000\\r\\n001010011101\\r\\n100000001011\\r\\n010010001110\\r\\n011011011101\\r\\n100000000111\\r\\n100101100100\\r\\n001110000010\\r\\n000000000000\\r\\n101000110100\\r\\n011010110001\\r\\n100001101110\\r\\n110001110011\\r\\n101100010000\\r\\n001111111111\\r\\n111110110101\\r\\n010111001101\\r\\n011001000001\\r\\n111110011100\\r\\n100100011010\\r\\n001000011000\\r\\n011101101100\\r\\n100110111111\\r\\n111011011010\\r\\n101001101000\\r\\n010011110000\\r\\n110010110011\\r\\n111000000001\\r\\n101101110110\\r\\n111000001101\\r\\n011111001001\\r\\n010010110101\\r\\n001100010101\\r\\n111011110010\\r\\n100011000101\\r\\n111010000100\\r\\n011001111101\\r\\n111010011110\\r\\n111011111011\\r\\n110110011010\\r\\n011111011011\\r\\n010010001100\\r\\n110100111110\\r\\n010100111011\\r\\n110110011101\\r\\n110011010000\\r\\n110001001010\\r\\n000011000111\\r\\n100011101101\\r\\n101010100010\\r\\n110111001010\\r\\n100101101110\\r\\n111100101010\\r\\n110001011001\\r\\n011010011001\\r\\n000001111010\\r\\n001010101010\\r\\n010001110000\\r\\n001001111100\\r\\n011110000010\\r\\n000100010001\\r\\n110100000110\\r\\n010110111011\\r\\n001100111100\\r\\n111100011000\\r\\n011011011010\\r\\n111001001010\\r\\n110110100111\\r\\n001011000000\\r\\n000001110001\\r\\n101100011100\\r\\n100011000011\\r\\n001100010001\\r\\n000100111011\\r\\n001001110011\\r\\n100111111100\\r\\n111010001001\\r\\n101001000110\\r\\n001101000100\\r\\n110000000100\\r\\n111010110011\\r\\n000101110000\\r\\n010000010101\\r\\n000110111001\\r\\n100100100000\\r\\n110010001011\\r\\n110111100011\\r\\n101101101001\\r\\n100001100100\\r\\n000111010100'}"
            ]
          },
          "metadata": {},
          "execution_count": 21
        }
      ]
    },
    {
      "cell_type": "markdown",
      "metadata": {
        "id": "iVJgBZ714deo"
      },
      "source": [
        "# Parte 1"
      ]
    },
    {
      "cell_type": "code",
      "metadata": {
        "colab": {
          "base_uri": "https://localhost:8080/"
        },
        "id": "MsFnhqUQ43u1",
        "outputId": "95673d27-17f1-4307-d28a-f2e378241f15"
      },
      "source": [
        "# Variables\n",
        "epsilon = []\n",
        "gamma = []\n",
        "\n",
        "# Transformación del .txt en un arreglo\n",
        "f = np.loadtxt('Data.txt',dtype=str)\n",
        "\n",
        "# Calculando el más común\n",
        "# Realizo esto por cada uno de los 12 bits de los binarios\n",
        "for j in range(12):\n",
        "  one = 0\n",
        "  zero = 0\n",
        "  for i in range(len(f)):\n",
        "    if '1' in f[i][j]:\n",
        "      one = one + 1\n",
        "    elif '0' in f[i][j]:\n",
        "      zero = zero + 1\n",
        "    \n",
        "    # Definimos cual es el más común\n",
        "    if (one>zero):\n",
        "      common = 1\n",
        "    else:\n",
        "      common = 0\n",
        "\n",
        "  # Agregamos el más común a un arreglo \n",
        "  epsilon.append(common)\n",
        "\n",
        "# Más comunes\n",
        "print(epsilon)\n",
        "\n",
        "# Encontramos gamma invirtiendo epsilon\n",
        "for i in range(len(epsilon)):\n",
        "  if '1' in str(epsilon[i]):\n",
        "    variable = 0\n",
        "  else: \n",
        "    variable = 1\n",
        "\n",
        "  # Agregamos el menos común a un arreglo \n",
        "  gamma.append(variable)\n",
        "\n",
        "# Menos comunes\n",
        "print(gamma)\n",
        "\n",
        "#Transformando de binario y encontrando la solución\n",
        "\n",
        "# De array a string\n",
        "string_epsilon = \"\".join([str(_) for _ in epsilon])\n",
        "string_gamma = \"\".join([str(_) for _ in gamma])\n",
        "\n",
        "# De binario a decimal\n",
        "numero_epsilon = int(string_epsilon, 2) \n",
        "numero_gamma = int(string_gamma, 2) \n",
        "\n",
        "# Resultados\n",
        "print('Numero Epsilon: ' + str(numero_epsilon))\n",
        "print('Numero Gamma: ' + str(numero_gamma))\n",
        "print('Resultado: ' + str(numero_epsilon*numero_gamma))\n"
      ],
      "execution_count": null,
      "outputs": [
        {
          "output_type": "stream",
          "name": "stdout",
          "text": [
            "[1, 0, 1, 1, 1, 0, 1, 1, 1, 1, 0, 0]\n",
            "[0, 1, 0, 0, 0, 1, 0, 0, 0, 0, 1, 1]\n",
            "Numero Epsilon: 3004\n",
            "Numero Gamma: 1091\n",
            "Resultado: 3277364\n"
          ]
        }
      ]
    },
    {
      "cell_type": "markdown",
      "metadata": {
        "id": "YVu4i5hm7FMe"
      },
      "source": [
        "# Parte 2"
      ]
    },
    {
      "cell_type": "code",
      "metadata": {
        "colab": {
          "base_uri": "https://localhost:8080/"
        },
        "id": "nQk63qkEy416",
        "outputId": "bca860e3-2cd6-418b-83f4-040e265b3077"
      },
      "source": [
        "# Generamos una clase para definir los números más comunes y menos comunes\n",
        "class Counter:\n",
        "    zero = 0\n",
        "    one = 0\n",
        "\n",
        "    # Funciones para encontrar los valores comunes y menos comunes de Data.txt\n",
        "    def common(self):\n",
        "        return 0 if self.zero > self.one else 1\n",
        "\n",
        "    def noncommon(self):\n",
        "        return 1 if self.zero > self.one else 0\n",
        "\n",
        "# Creamos una función para filtrar el binario según epsilon y gamma\n",
        "def air_measure(data, gas,index):\n",
        "\n",
        "    # Si nuestro arreglo tiene un solo elemento, este será el numero buscado\n",
        "    if len(data) == 1:\n",
        "        return int(\"\".join([str(_) for _ in data[0]]), 2)\n",
        "\n",
        "    # Comparamos los numeros para encontrar los que tengan el valor en segun la posición\n",
        "    counts = [Counter() for i in range(len(data[0]))]\n",
        "    for report in data:\n",
        "        for i, number in enumerate(report):\n",
        "            if '0' == number:\n",
        "                counts[i].zero += 1\n",
        "            elif '1' == number:\n",
        "                counts[i].one += 1\n",
        "            else:\n",
        "                raise ValueError()\n",
        "    \n",
        "    # Encontramos los valores de epsilon y gamma\n",
        "    epsilon = \"\".join([str(count.common()) for count in counts])\n",
        "    gamma = \"\".join([str(count.noncommon()) for count in counts])\n",
        "\n",
        "    # Si el gas que buscamos es el oxígeno, se encuentra el binario que tenga los valores comunes de epsilon\n",
        "    if \"oxygen\" == gas:\n",
        "        return air_measure([report for report in data if report[index] == epsilon[index]], gas, index + 1)\n",
        "    # Si el gas es otro, se encuentra el binario que tenga los valores comunes de gamma\n",
        "    return air_measure([report for report in data if report[index] == gamma[index]], gas, index + 1)\n",
        "\n",
        "\n",
        "# Con el archivo de datos obtenemos la cantidad de Oxigeno y C02\n",
        "with open(\"Data.txt\", \"r\") as f:\n",
        "  array = f.read().splitlines()\n",
        "  oxygen = air_measure(array, \"oxygen\", 0)\n",
        "  c02 = air_measure(array, \"co2\", 0)\n",
        "  print('Oxígeno: ' + str(oxygen))\n",
        "  print('CO2: '+ str(c02))\n",
        "  print('Resultado: ' + str(oxygen * c02))\n",
        "\n"
      ],
      "execution_count": 73,
      "outputs": [
        {
          "output_type": "stream",
          "name": "stdout",
          "text": [
            "Oxígeno: 3583\n",
            "CO2: 1601\n",
            "Resultado: 5736383\n"
          ]
        }
      ]
    }
  ]
}