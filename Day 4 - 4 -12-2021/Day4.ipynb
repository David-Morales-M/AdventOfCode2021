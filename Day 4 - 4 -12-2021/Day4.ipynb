{
  "nbformat": 4,
  "nbformat_minor": 0,
  "metadata": {
    "colab": {
      "name": "Day4.ipynb",
      "provenance": [],
      "collapsed_sections": []
    },
    "kernelspec": {
      "name": "python3",
      "display_name": "Python 3"
    },
    "language_info": {
      "name": "python"
    }
  },
  "cells": [
    {
      "cell_type": "code",
      "metadata": {
        "id": "XfPFMJlB-JwM"
      },
      "source": [
        "# Importar Librerias\n",
        "from google.colab import files\n",
        "import numpy as np "
      ],
      "execution_count": 1,
      "outputs": []
    },
    {
      "cell_type": "code",
      "metadata": {
        "colab": {
          "resources": {
            "http://localhost:8080/nbextensions/google.colab/files.js": {
              "data": "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",
              "ok": true,
              "headers": [
                [
                  "content-type",
                  "application/javascript"
                ]
              ],
              "status": 200,
              "status_text": ""
            }
          },
          "base_uri": "https://localhost:8080/",
          "height": 111
        },
        "id": "hCgl8emA_jDN",
        "outputId": "bfa4cd28-17f5-4062-dd9c-9cb0227e3ef5"
      },
      "source": [
        "# Subir Archivos\n",
        "files.upload()  "
      ],
      "execution_count": 2,
      "outputs": [
        {
          "output_type": "display_data",
          "data": {
            "text/html": [
              "\n",
              "     <input type=\"file\" id=\"files-6cbdc467-44ee-433a-925c-26e391cf597d\" name=\"files[]\" multiple disabled\n",
              "        style=\"border:none\" />\n",
              "     <output id=\"result-6cbdc467-44ee-433a-925c-26e391cf597d\">\n",
              "      Upload widget is only available when the cell has been executed in the\n",
              "      current browser session. Please rerun this cell to enable.\n",
              "      </output>\n",
              "      <script src=\"/nbextensions/google.colab/files.js\"></script> "
            ],
            "text/plain": [
              "<IPython.core.display.HTML object>"
            ]
          },
          "metadata": {}
        },
        {
          "output_type": "stream",
          "name": "stdout",
          "text": [
            "Saving Data.txt to Data.txt\n"
          ]
        },
        {
          "output_type": "execute_result",
          "data": {
            "text/plain": [
              "{'Data.txt': b'17,25,31,22,79,72,58,47,62,50,30,91,11,63,66,83,33,75,44,18,56,81,32,46,93,13,41,65,14,95,19,38,8,35,52,7,12,70,84,23,4,42,90,60,6,40,97,16,27,86,5,48,54,64,29,67,26,89,99,53,34,0,57,3,92,37,59,9,21,78,51,80,73,82,76,28,88,96,45,69,98,1,2,71,68,49,36,15,55,39,87,77,74,94,61,85,10,43,20,24\\r\\n\\r\\n36 11 70 77 80\\r\\n63  3 56 75 28\\r\\n89 91 27 33 82\\r\\n53 79 52 96 32\\r\\n58 14 78 65 38\\r\\n\\r\\n26 15 50 56  2\\r\\n20 27 42 11 16\\r\\n93 44 38 28 68\\r\\n66 88 78 81 77\\r\\n91 46 55 86  6\\r\\n\\r\\n46 53 14 17 75\\r\\n71  4 70 99 48\\r\\n65 96 68 80 72\\r\\n 3 97 62 37 88\\r\\n82 35 36 23 39\\r\\n\\r\\n17  1 61 77  5\\r\\n74 60 12 24 48\\r\\n34 19 68 65 86\\r\\n44 59 38 40 95\\r\\n67 64  9 52 27\\r\\n\\r\\n44 60  8 81  3\\r\\n30 71 85 23 99\\r\\n68 88 38 97 48\\r\\n27 70 63 28 12\\r\\n67 57 34 13 93\\r\\n\\r\\n52 82 88 61  0\\r\\n68 21 59 75 71\\r\\n86 36 39 20 48\\r\\n50 40 19  6 34\\r\\n93 26 14 41 49\\r\\n\\r\\n74 18 93 59 77\\r\\n14 45 57 61 92\\r\\n10 78 42 63 52\\r\\n87  3  0 62 20\\r\\n25 64 48 22 96\\r\\n\\r\\n11 73 88 47 30\\r\\n10  6  5 25 67\\r\\n89 41 62 94 85\\r\\n45 99 58  7 57\\r\\n77 19 66 43 48\\r\\n\\r\\n94 47 45 73 44\\r\\n22  8 84 79  6\\r\\n14 58 26 92  5\\r\\n40 48 42 25  2\\r\\n37 76 18 80 74\\r\\n\\r\\n15  3 89 77 98\\r\\n13 99 10 97 59\\r\\n18 96 64 47 37\\r\\n68 92 90 56 11\\r\\n76 81 12 91 69\\r\\n\\r\\n82 97 69 47 10\\r\\n51 12 41 23 45\\r\\n71  6 67 80 46\\r\\n31 70 40  9 42\\r\\n27  1 17 25 74\\r\\n\\r\\n 2 77  1 37 29\\r\\n50  8 87 12 76\\r\\n74 88 48 60 79\\r\\n41 35 92 33 34\\r\\n45 52 75 24 28\\r\\n\\r\\n97 41 49 40 96\\r\\n84 54 12 24 45\\r\\n39  1 17 85 52\\r\\n 3 29 67 33  9\\r\\n50  7 47 48 81\\r\\n\\r\\n76 77 15 84 71\\r\\n41  7 32 29 62\\r\\n30 87 14 10 48\\r\\n98 22 96 45  9\\r\\n66 91 83 21 55\\r\\n\\r\\n20 42 33  9 91\\r\\n11 71 64 83 61\\r\\n82 54 67 38 60\\r\\n77 57 81 78 98\\r\\n18  1 27 55 87\\r\\n\\r\\n 7 13 36 93 47\\r\\n45 25 44 58 72\\r\\n74 80 52 24 15\\r\\n64 43 96 42 20\\r\\n82 10 73 46 57\\r\\n\\r\\n40 36 86 87 76\\r\\n16 11 70 81 25\\r\\n55 31 83 72 88\\r\\n57 33 44 58  5\\r\\n64 15 19 67 53\\r\\n\\r\\n61 95 27  3 20\\r\\n85  1 76 25 80\\r\\n12 78 98 36  4\\r\\n86 90 19 64 38\\r\\n22 65 96 87 68\\r\\n\\r\\n11 52 17 89 64\\r\\n90 35 94 81 62\\r\\n65 30 51 67 85\\r\\n40 32 37 78 74\\r\\n97 27 10 96 91\\r\\n\\r\\n45 14 34 23 49\\r\\n79 21 90 56  4\\r\\n25 44 92  0 31\\r\\n16 24 88 48 84\\r\\n15 63 50 76 52\\r\\n\\r\\n42 31 84 64 24\\r\\n34 58 53  3 73\\r\\n56 35 33 89 41\\r\\n16  8 85 92  6\\r\\n40 19 51 14  4\\r\\n\\r\\n46 61 74 54 30\\r\\n35 79 63  8 10\\r\\n64 38 71 23 98\\r\\n59 72 83 70 50\\r\\n91 77 69 55 84\\r\\n\\r\\n93 40  9 49 66\\r\\n45 35 71 65 61\\r\\n 5 14 20 83 10\\r\\n84 47 53 96 97\\r\\n 6 30 77 52 67\\r\\n\\r\\n19 78 68 18 86\\r\\n94 82 16 21 95\\r\\n71 63 22  3 72\\r\\n91 27 59 49 11\\r\\n53 69 46 52 36\\r\\n\\r\\n44 94 30 21 22\\r\\n25 81 60 74 99\\r\\n32 62 10 79 39\\r\\n28 63 96 90 55\\r\\n58 85 93 36 76\\r\\n\\r\\n90 71 76 51 87\\r\\n26 64  2 49 19\\r\\n54 47 32 93 92\\r\\n88 69 24 60 94\\r\\n42 73 67 56 23\\r\\n\\r\\n 8 22 47 12 10\\r\\n59 31 99 41 17\\r\\n60 23 37  0 57\\r\\n21 11 77 79 91\\r\\n50 34 16 72 15\\r\\n\\r\\n27 11 12  7 83\\r\\n 9 50 47 84 35\\r\\n75 99 97 78 53\\r\\n20 70 51 76 44\\r\\n73 90  0 62 58\\r\\n\\r\\n60 49  0 40  8\\r\\n74 73 95  3 90\\r\\n27 39 10 19 35\\r\\n 6 50 16 72 82\\r\\n71 36 11 99 52\\r\\n\\r\\n15 97  9 75 37\\r\\n33 65 30 18 10\\r\\n93 14 77 80 36\\r\\n82 35 88 12 21\\r\\n40 22 84 49 81\\r\\n\\r\\n18 74 94 79 17\\r\\n39 51 98  8 99\\r\\n33 63 50 65 40\\r\\n29 55 75 91 90\\r\\n24 54 87 97 48\\r\\n\\r\\n44 81 21 77 10\\r\\n 8 52 54  5 88\\r\\n37 29 59 43 34\\r\\n70 30 86 31 56\\r\\n35 40 13  4 45\\r\\n\\r\\n12 84 38 37 54\\r\\n72 69 86 90 91\\r\\n31 45 15 52 59\\r\\n51  9  1 34 63\\r\\n53 29 20  3 56\\r\\n\\r\\n43 46 86 35 73\\r\\n94 87 90 39 95\\r\\n25  0 17 84 54\\r\\n22 27 76 26 63\\r\\n91 68  2 14 37\\r\\n\\r\\n67 63 20 21 27\\r\\n98 78  4 51 82\\r\\n74 86 46 12 56\\r\\n57 94 81 33 11\\r\\n29 13 83 37 40\\r\\n\\r\\n11 87 71 33 64\\r\\n52 97 91 79 24\\r\\n54 37 72 55  0\\r\\n21 67 80 51 10\\r\\n 6 35 49 68 18\\r\\n\\r\\n27  7 95 81 93\\r\\n99 97 67 65 72\\r\\n59 92 32 43 50\\r\\n56 74 42 75 41\\r\\n13 36 79 78 23\\r\\n\\r\\n94  9 47 30 85\\r\\n 5 80 86 55 11\\r\\n44 54 17 74 36\\r\\n22 98 84  7 88\\r\\n52 34  0 97 73\\r\\n\\r\\n10 70 26 89 28\\r\\n98 41 77 64 38\\r\\n46  8 22  5 29\\r\\n71 11 57 20 31\\r\\n97 90 50 95 51\\r\\n\\r\\n26 23 73 25 11\\r\\n80 97 68  7 27\\r\\n43 72 47 49 93\\r\\n 2 21 50 82 66\\r\\n34 81 90 18 48\\r\\n\\r\\n79 61 33 42 50\\r\\n28 44 30 99 88\\r\\n57 14 35 60 31\\r\\n15 27 34 13 19\\r\\n72 71 64 76 21\\r\\n\\r\\n80 73 78 18 28\\r\\n79  1 76 42 58\\r\\n90 85 48 81 61\\r\\n52 44 51 53 39\\r\\n63 98 25 24 70\\r\\n\\r\\n22 63 35 31 11\\r\\n55 48 85 65 68\\r\\n49 52 40 74 97\\r\\n37 69 98 79 67\\r\\n 2 91  7 41 16\\r\\n\\r\\n28 43 21 66 67\\r\\n56 88 77 37 41\\r\\n63 55 79 94 62\\r\\n61 60 23 45 87\\r\\n58 12 99 47 73\\r\\n\\r\\n 2 21 26 27 42\\r\\n65 47 71 85  4\\r\\n76 13 40 56 29\\r\\n50 53 28 97 90\\r\\n17  1 14 74 48\\r\\n\\r\\n 4 98 39 40 11\\r\\n90 88 87 86 13\\r\\n92 80 95 99 51\\r\\n54 18 70 34 38\\r\\n75 37 28 78 46\\r\\n\\r\\n 7 11 73 51 47\\r\\n26 69 61 91 57\\r\\n55 48 14 94 82\\r\\n19 37 15 54 65\\r\\n25 43 90 16 81\\r\\n\\r\\n50 30 78  7 61\\r\\n99 32 91 13 21\\r\\n 5 27 11 92 73\\r\\n71 54 29 20 12\\r\\n 8 75 65  9 39\\r\\n\\r\\n84 13 22 90  7\\r\\n64  6 21  3 23\\r\\n 8 72 67 61 62\\r\\n44 32 20 25 45\\r\\n57 81 49 98 77\\r\\n\\r\\n12  9 53 94  8\\r\\n85  0 70 35 82\\r\\n90 67 48 79 54\\r\\n26 88 51  2 46\\r\\n78 63 61 36 29\\r\\n\\r\\n86 27 13 55 37\\r\\n67 61 39  1 66\\r\\n79 97 40 42  7\\r\\n64 85 33 31 46\\r\\n34 65 24 54 50\\r\\n\\r\\n 8 58 80 35 47\\r\\n31 66 45 36 54\\r\\n 9 27 64 16  5\\r\\n34 14 10 57 85\\r\\n40 79 60 61  3\\r\\n\\r\\n49 31  2 25  9\\r\\n34 65 14 54 61\\r\\n88 28 45  3 76\\r\\n 7 94 24  1 86\\r\\n29 66 70 96 50\\r\\n\\r\\n72 35 31 84 37\\r\\n 8 86  4 17 46\\r\\n39 80 43 11  3\\r\\n26 76 44 20 95\\r\\n71  5 51 65 32\\r\\n\\r\\n98 33  8 41 75\\r\\n94 49 27 95 72\\r\\n44 18 82  0 90\\r\\n86 74  2 59 45\\r\\n20 57 25 87 42\\r\\n\\r\\n64 72 33 23 96\\r\\n70  2 68 97 69\\r\\n59 49 19 35 10\\r\\n87 92 85 34 90\\r\\n56 95 88 66 94\\r\\n\\r\\n97 23 75 47 43\\r\\n32 19 69 29 94\\r\\n45 38 61  4 40\\r\\n26 82 30 16  2\\r\\n95 76  5 67 83\\r\\n\\r\\n 4 75 91 82 23\\r\\n52 38 47 49 46\\r\\n97 17  6 90 59\\r\\n 8 16 12 73 85\\r\\n88 64 32 99 11\\r\\n\\r\\n 2 61 15  7 37\\r\\n45 57 43 46 92\\r\\n76 99 34 14  9\\r\\n51  8 18 81 50\\r\\n19 47 97 29 26\\r\\n\\r\\n70 61 79 67 17\\r\\n25 69 78  4 24\\r\\n87 11 95 68 91\\r\\n51 89 39 66 80\\r\\n29 98 43 64 86\\r\\n\\r\\n95 40 97 32 48\\r\\n44  0 64 45 83\\r\\n34 88 20 86 31\\r\\n84 16 96 78 65\\r\\n 2 81 72 69 43\\r\\n\\r\\n98 88 93  3 10\\r\\n53 72 68 81 62\\r\\n56 38 36 87 27\\r\\n29 99 76 28 23\\r\\n16 59 71 21 92\\r\\n\\r\\n95 17  8  7 46\\r\\n71 61  5 90 38\\r\\n63 65 25 45 22\\r\\n11 16 93 34 14\\r\\n55 56 36 91 49\\r\\n\\r\\n61 36  9 12 40\\r\\n60 51 57 41 87\\r\\n35 97 75 20 21\\r\\n74 34 19 14 95\\r\\n84 68 98 62  0\\r\\n\\r\\n 3  5 57 40 61\\r\\n30 79 94 86 84\\r\\n20  9 13 27 34\\r\\n59 98 17 12 14\\r\\n28 73 18 97 75\\r\\n\\r\\n 3 86 99 48  2\\r\\n65 97 26 82 79\\r\\n51 16 70  7 89\\r\\n22 83 50 78 32\\r\\n31 72 28 21 60\\r\\n\\r\\n67 27 78 91 14\\r\\n21  4 20 42 62\\r\\n52  3 36 17 18\\r\\n 6 40 46 39 63\\r\\n80 75 54 96 99\\r\\n\\r\\n89 77 18 59 99\\r\\n 5 55 14 52 12\\r\\n91 70 85 16 24\\r\\n72 42 80 81 76\\r\\n46 95 37 23 11\\r\\n\\r\\n48 66 23 26 15\\r\\n16 76 81 10 49\\r\\n57 74 68 67 98\\r\\n43 31 53 94 86\\r\\n80 71 85  0 33\\r\\n\\r\\n95 69 45 80 35\\r\\n38 88 62 28  1\\r\\n44 10 91 39 31\\r\\n74 81 64 63 98\\r\\n33 13 89 53 56\\r\\n\\r\\n85 22 55 95 44\\r\\n93  9 58 11 27\\r\\n15 40  2 28 87\\r\\n 5 84 77 48 42\\r\\n94 18 16 12 79\\r\\n\\r\\n69 74 75 16 77\\r\\n45 56 60 81 68\\r\\n33 73 49 14 92\\r\\n94 51 24 38 15\\r\\n90 10 89  6 32\\r\\n\\r\\n15 86 73 20 71\\r\\n 7 33 47 36 96\\r\\n31 55 87 22 14\\r\\n13 35  8 77 89\\r\\n 3 37 98 52 34\\r\\n\\r\\n92 79 95 74 85\\r\\n19  3  5 73 67\\r\\n93 41 81 78 77\\r\\n48 88 57 82 15\\r\\n36 38 42  4 69\\r\\n\\r\\n87 36 38 65 91\\r\\n18 47 41 66 35\\r\\n 0 63 59 54 10\\r\\n44  1 37 81 48\\r\\n75 96 42  4 25\\r\\n\\r\\n14 19 63  8 36\\r\\n35 38 84 66 42\\r\\n99  7 70 74  6\\r\\n 4 12 86 65 22\\r\\n46 40 60 31 80\\r\\n\\r\\n38 29 26 65 85\\r\\n21  6 15 77 14\\r\\n61 25 86 12 35\\r\\n71 67 74 59 42\\r\\n46 52 30 19 93\\r\\n\\r\\n10 61 18 67 26\\r\\n15 27 20 62 38\\r\\n58 24 28 45 90\\r\\n98 39 59  3 92\\r\\n64 35 60 68 19\\r\\n\\r\\n34 44 11 25 56\\r\\n 2 63  5 94 76\\r\\n72 92  0 27 84\\r\\n60  8 80 48 90\\r\\n23  7 75 70 47\\r\\n\\r\\n78 18 19 34 39\\r\\n31 66 95  9 36\\r\\n64 99 57 94 75\\r\\n29 97 51 45 47\\r\\n93 79 23 84 24\\r\\n\\r\\n72 23 78 90 21\\r\\n41 67 31  4 57\\r\\n34 58 50 46 74\\r\\n55 37 81 63 45\\r\\n85  8 48 28 12\\r\\n\\r\\n18 30 28 50 81\\r\\n67 47 41 45 59\\r\\n51 14 92  6 68\\r\\n 8 46 69 84 13\\r\\n93 25 58 26 75\\r\\n\\r\\n76 16 78 36 18\\r\\n 3  7 28 73 41\\r\\n34 97 42 23  8\\r\\n 9 67 49 83 64\\r\\n81  5 29 85 79\\r\\n\\r\\n 3 35 80 53  5\\r\\n91 96 77 52 69\\r\\n44 32  4 60 26\\r\\n41 13 28 39 64\\r\\n73 27 34 71 92\\r\\n\\r\\n72  4 77 80 29\\r\\n32 36 70 47 79\\r\\n96 56 69  2 90\\r\\n13 20 24 81 67\\r\\n23 25 83 89 91\\r\\n\\r\\n32 46 88 81 75\\r\\n 5 98 15 72 31\\r\\n56 89 90 21 16\\r\\n37  2 82 93 18\\r\\n63 52 49 19 41\\r\\n\\r\\n52 51 76 91 33\\r\\n29 37 32 43 42\\r\\n27 34 21 72 87\\r\\n62 64  8 73 41\\r\\n23 46 67 96 85\\r\\n\\r\\n82 19  5 88 54\\r\\n71 27 92 48 16\\r\\n25 96 40 56 37\\r\\n41 11 26 58 95\\r\\n63 17  1  0 24\\r\\n\\r\\n46 36 85 78 32\\r\\n55 50 94  9 57\\r\\n 0 20 24 68 28\\r\\n52 22  3 84 17\\r\\n16  2  1 66 69\\r\\n\\r\\n14 87 83 79 36\\r\\n 9 64 77 49 24\\r\\n25 92  5 62 91\\r\\n73 33 74  6 65\\r\\n39  2 59 71 50\\r\\n\\r\\n99  0 48 98 45\\r\\n50 27 92  8 73\\r\\n91 80 54 42 57\\r\\n18 78 55 19 36\\r\\n76 28 53  6  7\\r\\n\\r\\n29 68 27 95 47\\r\\n40 32 79 60  2\\r\\n44 53 57  6 25\\r\\n41 56 66 30 77\\r\\n26 13 83 23 51\\r\\n\\r\\n 7 76 59 44 22\\r\\n81 15 48  8 47\\r\\n77 79 32 61 39\\r\\n65 29 95 35 45\\r\\n 1  6 13  9  3\\r\\n\\r\\n 3 52 93 20 70\\r\\n49 80 40 66 53\\r\\n 2 71 41  1 13\\r\\n44 24 15 83  0\\r\\n14 17  7 56 63\\r\\n\\r\\n77 12 99 19 21\\r\\n62 63 98 56 66\\r\\n28  4 22 68 55\\r\\n49 65 96 84 57\\r\\n41 74 46 60 53\\r\\n\\r\\n64  7 16  8 38\\r\\n55 68 21 43 99\\r\\n92  0 79 35 96\\r\\n75 28 51 87 53\\r\\n57 73 84 18  3\\r\\n\\r\\n95 90 17 40 51\\r\\n46 12 23 91 38\\r\\n80 10 68  9 93\\r\\n65 69 49 27 66\\r\\n94  4 39 97 31\\r\\n\\r\\n 4 64 39  3 33\\r\\n26 88 10 96 54\\r\\n21 48  7 78 50\\r\\n22 90 16 15 72\\r\\n92  2 71 70 68\\r\\n\\r\\n42 26 72 54 41\\r\\n97 94 80 47 63\\r\\n19 24 90 78  6\\r\\n48 34 50 98 89\\r\\n33 81 66 38 10\\r\\n\\r\\n65 24 23  1 19\\r\\n54 35 76 71 49\\r\\n10 75 99 91 97\\r\\n21 78 17 18 81\\r\\n 3 48 72  7 96'}"
            ]
          },
          "metadata": {},
          "execution_count": 2
        }
      ]
    },
    {
      "cell_type": "markdown",
      "metadata": {
        "id": "O2EzN4jXW0Ch"
      },
      "source": [
        "# Parte 1"
      ]
    },
    {
      "cell_type": "code",
      "metadata": {
        "colab": {
          "base_uri": "https://localhost:8080/"
        },
        "id": "WbO9P_Tv_mq4",
        "outputId": "0a535a05-dbdb-4f57-b106-882bb63a18c0"
      },
      "source": [
        "# Función para encontrar tablero ganador\n",
        "def get_Winner(numbers, boards):\n",
        "\n",
        "    # Creamos un arreglo de valores por cada uno de los tableros\n",
        "    # En estos guardaremos los números marcados \n",
        "    marked =[[] for y in range(len(boards))] \n",
        "\n",
        "    # Comenzamos la comprobación con los números aleatorios\n",
        "    for number in numbers:\n",
        "      # Revisamos cada uno de los tableros\n",
        "        for i in range (len(boards)):\n",
        "          # Si el número se encuentra en el tablero, almacenamos este\n",
        "          # valor en el arreglo de valores marcados por cada tablero\n",
        "            if(number in boards[i]):\n",
        "                marked[i].append(boards[i].index(number))\n",
        "\n",
        "        # Para la comprobación de filas y columnas verificamos los \n",
        "        # arreglos de valores marcados, si este tiene 5 valores en\n",
        "        # una fila o en una columna, se retornará el tablero ganador\n",
        "        for element in marked:\n",
        "            for i in range (5):\n",
        "              # Retornará el tablero ganador, con el arreglo de fila/columna ganador\n",
        "              # y tambien el último número con el que se logró Bingo\n",
        "              # Comprobando las columnas\n",
        "              if( (i*5) in element and (i*5)+1 in element and (i*5)+2 in element and (i*5)+3 in element and (i*5)+4 in element):\n",
        "                return boards[marked.index(element)],element,number\n",
        "              # Comprobando las filas\n",
        "              elif( i in element and i+5 in element and i+10 in element and i+15 in element and i+20 in element):\n",
        "                return boards[marked.index(element)],element,number\n",
        "\n",
        "    # Retorno del arreglo de posiciones               \n",
        "    return marked\n",
        "\n",
        "\n",
        "\n",
        "# Transformación del .txt en un arreglo\n",
        "with open(\"Data.txt\") as f:\n",
        "\n",
        "    # Leemos las líneas del archivo de datos\n",
        "    data = f.read().split('\\n\\n')\n",
        "\n",
        "    # Los números serán la primera línea de los datos\n",
        "    numbers=data[0].split(',')\n",
        "\n",
        "    # Los datos de los tableros son guardados en una arreglo en el cual\n",
        "    # cada uno de los elementos es un tablero, el rango es len(data-1)\n",
        "    # porque la primera línea es la línea de los números de bingo\n",
        "    for i in range(len(data)-1):\n",
        "        matrix.append(data[i+1].split())\n",
        "\n",
        "    # Obtenemos la tabla ganadora\n",
        "    winner = get_Winner(numbers, matrix)\n",
        "    \n",
        "    x=0;\n",
        "    fila_columna = []\n",
        "\n",
        "    # Obtendremos únicamente los valores que han sido marcados \n",
        "    # dentro del total de números que han sido sacados hasta que\n",
        "    # exista un ganador\n",
        "    for i in range (len(winner[0])):\n",
        "        if(i not in winner[1]):\n",
        "            x = x + int(winner[0][i])\n",
        "\n",
        "    print('Tablero Ganador: ',winner[0])\n",
        "    print('Numero Final: ',winner[2])\n",
        "    print('Resultado final: ' + str(x*int(winner[2])))\n",
        "\n",
        "\n"
      ],
      "execution_count": 74,
      "outputs": [
        {
          "output_type": "stream",
          "name": "stdout",
          "text": [
            "Tablero Ganador:  ['18', '30', '28', '50', '81', '67', '47', '41', '45', '59', '51', '14', '92', '6', '68', '8', '46', '69', '84', '13', '93', '25', '58', '26', '75']\n",
            "Numero Final:  14\n",
            "Resultado final: 8442\n"
          ]
        }
      ]
    },
    {
      "cell_type": "markdown",
      "metadata": {
        "id": "Ygan4RKGW270"
      },
      "source": [
        "# Parte 2"
      ]
    },
    {
      "cell_type": "code",
      "metadata": {
        "colab": {
          "base_uri": "https://localhost:8080/"
        },
        "id": "HGO_ANZMaPHh",
        "outputId": "5e6d804d-fcdd-4cf1-a5a3-7970466e5ab4"
      },
      "source": [
        "# Función para encontrar último tablero ganador\n",
        "def get_Last_Winner(numbers, boards):\n",
        "\n",
        "    # Realizaremos un procedimiento similar al realizado\n",
        "    # para encontrar al ganador\n",
        "    marked =[[] for y in range(len(boards))] \n",
        "    for number in numbers:\n",
        "        for i in range (len(boards)):\n",
        "            if(number in boards[i]):\n",
        "                marked[i].append(boards[i].index(number))\n",
        "\n",
        "        # Por cada elemento en el arreglo de números aleatorios\n",
        "        for element in marked:\n",
        "            for i in range (5):\n",
        "                # Si se completa una fila o columna se eliminará el tablero del arreglo\n",
        "                # de tableros, además se eliminará el número del arreglo de números \n",
        "                # aleatorios, para solo dejar número que será el que complete una fila \n",
        "                # o columna del último tablero\n",
        "\n",
        "                # Comprobando las columnas\n",
        "                if( (i*5) in element and (i*5)+1 in element and (i*5)+2 in element and (i*5)+3 in element and (i*5)+4 in element):\n",
        "                    boards.remove(boards[marked.index(element)])\n",
        "                    marked.remove(element)\n",
        "                    break\n",
        "                # Comprobando las fila\n",
        "                if( i in element and i+5 in element and i+10 in element and i+15 in element and i+20 in element):\n",
        "                    boards.remove(boards[marked.index(element)])\n",
        "                    marked.remove(element)\n",
        "                    break\n",
        "\n",
        "            \n",
        "            # Obtenemos el último tablero en ser completado\n",
        "            # viendo el último valor de los numeros marcados\n",
        "            if(len(marked)==1):\n",
        "                final = boards[0]\n",
        "            # Retornamos el último tablero y la lista de números el último número \n",
        "            if(len(marked)==0):\n",
        "                return final,element,number  \n",
        "    return marked\n",
        "\n",
        "\n",
        "# Transformación del .txt en un arreglo\n",
        "with open(\"Data.txt\") as f:\n",
        "\n",
        "    data = f.read().split('\\n\\n')\n",
        "    numbers=data[0].split(',')\n",
        "    for i in range(len(data)-1):\n",
        "        matrix.append(data[i+1].split())\n",
        "\n",
        "    # Obtenemos la última tabla ganadora\n",
        "    last_Winner = get_Last_Winner(numbers, matrix)\n",
        "    x=0;\n",
        "\n",
        "    # Obtendremos únicamente los valores que han sido marcados \n",
        "    # dentro del total de números que han sido sacados hasta que\n",
        "    # exista un ganador\n",
        "    for i in range (len(last_Winner[0])):\n",
        "        if(i not in last_Winner[1]):\n",
        "            x = x + int(last_Winner[0][i])\n",
        "\n",
        "    print('Último Tablero Ganador: ',last_Winner[0])\n",
        "    print('Numero Final: ',last_Winner[2])\n",
        "    print('Resultado final: ' + str(x*int(last_Winner[2])))\n",
        "\n",
        "   "
      ],
      "execution_count": 95,
      "outputs": [
        {
          "output_type": "stream",
          "name": "stdout",
          "text": [
            "Último Tablero Ganador:  ['48', '66', '23', '26', '15', '16', '76', '81', '10', '49', '57', '74', '68', '67', '98', '43', '31', '53', '94', '86', '80', '71', '85', '0', '33']\n",
            "Numero Final:  15\n",
            "Resultado final: 4590\n"
          ]
        }
      ]
    }
  ]
}