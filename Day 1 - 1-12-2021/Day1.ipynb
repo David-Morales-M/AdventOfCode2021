{
  "nbformat": 4,
  "nbformat_minor": 0,
  "metadata": {
    "colab": {
      "name": "Day1.ipynb",
      "provenance": [],
      "collapsed_sections": []
    },
    "kernelspec": {
      "name": "python3",
      "display_name": "Python 3"
    },
    "language_info": {
      "name": "python"
    }
  },
  "cells": [
    {
      "cell_type": "code",
      "metadata": {
        "id": "BUQVks8K1IC0"
      },
      "source": [
        "# Importar Librerias\n",
        "from google.colab import files\n",
        "import numpy as np "
      ],
      "execution_count": 43,
      "outputs": []
    },
    {
      "cell_type": "code",
      "metadata": {
        "colab": {
          "resources": {
            "http://localhost:8080/nbextensions/google.colab/files.js": {
              "data": "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",
              "ok": true,
              "headers": [
                [
                  "content-type",
                  "application/javascript"
                ]
              ],
              "status": 200,
              "status_text": ""
            }
          },
          "base_uri": "https://localhost:8080/",
          "height": 111
        },
        "id": "PGG1Ac4c1yz-",
        "outputId": "6c93b444-8933-4eea-eb12-b648ba33a714"
      },
      "source": [
        "# Subir Archivos\n",
        "files.upload()  "
      ],
      "execution_count": 5,
      "outputs": [
        {
          "output_type": "display_data",
          "data": {
            "text/html": [
              "\n",
              "     <input type=\"file\" id=\"files-c6b27503-057d-4895-8df3-4ae19bc0f6b8\" name=\"files[]\" multiple disabled\n",
              "        style=\"border:none\" />\n",
              "     <output id=\"result-c6b27503-057d-4895-8df3-4ae19bc0f6b8\">\n",
              "      Upload widget is only available when the cell has been executed in the\n",
              "      current browser session. Please rerun this cell to enable.\n",
              "      </output>\n",
              "      <script src=\"/nbextensions/google.colab/files.js\"></script> "
            ],
            "text/plain": [
              "<IPython.core.display.HTML object>"
            ]
          },
          "metadata": {}
        },
        {
          "output_type": "stream",
          "name": "stdout",
          "text": [
            "Saving Data.txt to Data.txt\n"
          ]
        },
        {
          "output_type": "execute_result",
          "data": {
            "text/plain": [
              "{'Data.txt': b'188\\r\\n192\\r\\n193\\r\\n194\\r\\n192\\r\\n213\\r\\n214\\r\\n216\\r\\n219\\r\\n221\\r\\n222\\r\\n228\\r\\n231\\r\\n234\\r\\n239\\r\\n240\\r\\n252\\r\\n262\\r\\n267\\r\\n279\\r\\n278\\r\\n277\\r\\n279\\r\\n293\\r\\n309\\r\\n310\\r\\n312\\r\\n307\\r\\n308\\r\\n316\\r\\n320\\r\\n323\\r\\n335\\r\\n336\\r\\n343\\r\\n368\\r\\n357\\r\\n370\\r\\n377\\r\\n386\\r\\n387\\r\\n386\\r\\n402\\r\\n379\\r\\n393\\r\\n394\\r\\n403\\r\\n404\\r\\n405\\r\\n400\\r\\n421\\r\\n422\\r\\n423\\r\\n408\\r\\n409\\r\\n411\\r\\n408\\r\\n415\\r\\n417\\r\\n430\\r\\n439\\r\\n432\\r\\n459\\r\\n462\\r\\n463\\r\\n464\\r\\n466\\r\\n472\\r\\n485\\r\\n473\\r\\n488\\r\\n491\\r\\n492\\r\\n493\\r\\n496\\r\\n497\\r\\n501\\r\\n503\\r\\n516\\r\\n514\\r\\n513\\r\\n514\\r\\n517\\r\\n521\\r\\n522\\r\\n526\\r\\n548\\r\\n553\\r\\n560\\r\\n563\\r\\n565\\r\\n600\\r\\n601\\r\\n595\\r\\n596\\r\\n597\\r\\n599\\r\\n613\\r\\n630\\r\\n631\\r\\n635\\r\\n642\\r\\n648\\r\\n651\\r\\n654\\r\\n645\\r\\n653\\r\\n657\\r\\n676\\r\\n688\\r\\n711\\r\\n717\\r\\n718\\r\\n728\\r\\n735\\r\\n730\\r\\n733\\r\\n734\\r\\n737\\r\\n736\\r\\n738\\r\\n741\\r\\n749\\r\\n751\\r\\n752\\r\\n762\\r\\n765\\r\\n776\\r\\n779\\r\\n758\\r\\n743\\r\\n754\\r\\n759\\r\\n772\\r\\n773\\r\\n783\\r\\n790\\r\\n791\\r\\n783\\r\\n781\\r\\n784\\r\\n785\\r\\n791\\r\\n780\\r\\n789\\r\\n805\\r\\n792\\r\\n793\\r\\n797\\r\\n825\\r\\n828\\r\\n820\\r\\n817\\r\\n820\\r\\n821\\r\\n824\\r\\n825\\r\\n801\\r\\n815\\r\\n816\\r\\n829\\r\\n844\\r\\n845\\r\\n850\\r\\n853\\r\\n845\\r\\n841\\r\\n842\\r\\n844\\r\\n830\\r\\n844\\r\\n839\\r\\n842\\r\\n857\\r\\n859\\r\\n861\\r\\n871\\r\\n880\\r\\n881\\r\\n903\\r\\n935\\r\\n960\\r\\n964\\r\\n967\\r\\n969\\r\\n972\\r\\n990\\r\\n996\\r\\n999\\r\\n1003\\r\\n1008\\r\\n1034\\r\\n1038\\r\\n1039\\r\\n1053\\r\\n1054\\r\\n1055\\r\\n1061\\r\\n1065\\r\\n1066\\r\\n1061\\r\\n1064\\r\\n1073\\r\\n1078\\r\\n1084\\r\\n1087\\r\\n1106\\r\\n1113\\r\\n1118\\r\\n1128\\r\\n1132\\r\\n1133\\r\\n1126\\r\\n1127\\r\\n1134\\r\\n1150\\r\\n1153\\r\\n1162\\r\\n1176\\r\\n1186\\r\\n1187\\r\\n1215\\r\\n1218\\r\\n1221\\r\\n1224\\r\\n1225\\r\\n1232\\r\\n1234\\r\\n1241\\r\\n1247\\r\\n1248\\r\\n1251\\r\\n1250\\r\\n1252\\r\\n1247\\r\\n1249\\r\\n1251\\r\\n1252\\r\\n1253\\r\\n1260\\r\\n1263\\r\\n1269\\r\\n1270\\r\\n1277\\r\\n1287\\r\\n1262\\r\\n1275\\r\\n1276\\r\\n1281\\r\\n1282\\r\\n1285\\r\\n1284\\r\\n1296\\r\\n1304\\r\\n1310\\r\\n1307\\r\\n1308\\r\\n1285\\r\\n1286\\r\\n1293\\r\\n1298\\r\\n1303\\r\\n1309\\r\\n1312\\r\\n1315\\r\\n1317\\r\\n1325\\r\\n1335\\r\\n1338\\r\\n1343\\r\\n1346\\r\\n1348\\r\\n1360\\r\\n1366\\r\\n1367\\r\\n1371\\r\\n1384\\r\\n1396\\r\\n1400\\r\\n1407\\r\\n1425\\r\\n1424\\r\\n1427\\r\\n1433\\r\\n1446\\r\\n1449\\r\\n1466\\r\\n1469\\r\\n1495\\r\\n1507\\r\\n1508\\r\\n1509\\r\\n1521\\r\\n1514\\r\\n1519\\r\\n1533\\r\\n1534\\r\\n1538\\r\\n1539\\r\\n1541\\r\\n1551\\r\\n1561\\r\\n1569\\r\\n1570\\r\\n1582\\r\\n1583\\r\\n1593\\r\\n1599\\r\\n1607\\r\\n1608\\r\\n1614\\r\\n1618\\r\\n1633\\r\\n1638\\r\\n1646\\r\\n1652\\r\\n1653\\r\\n1680\\r\\n1682\\r\\n1689\\r\\n1700\\r\\n1702\\r\\n1700\\r\\n1706\\r\\n1709\\r\\n1710\\r\\n1712\\r\\n1718\\r\\n1710\\r\\n1711\\r\\n1736\\r\\n1727\\r\\n1729\\r\\n1758\\r\\n1762\\r\\n1780\\r\\n1794\\r\\n1811\\r\\n1813\\r\\n1817\\r\\n1818\\r\\n1826\\r\\n1829\\r\\n1830\\r\\n1811\\r\\n1817\\r\\n1818\\r\\n1820\\r\\n1821\\r\\n1822\\r\\n1824\\r\\n1825\\r\\n1838\\r\\n1840\\r\\n1841\\r\\n1844\\r\\n1846\\r\\n1849\\r\\n1875\\r\\n1878\\r\\n1879\\r\\n1881\\r\\n1908\\r\\n1917\\r\\n1923\\r\\n1918\\r\\n1930\\r\\n1921\\r\\n1926\\r\\n1927\\r\\n1929\\r\\n1940\\r\\n1941\\r\\n1946\\r\\n1949\\r\\n1951\\r\\n1960\\r\\n1964\\r\\n1965\\r\\n1971\\r\\n1975\\r\\n1979\\r\\n1984\\r\\n1986\\r\\n1985\\r\\n2010\\r\\n2005\\r\\n2006\\r\\n2010\\r\\n2011\\r\\n2012\\r\\n2013\\r\\n2029\\r\\n2031\\r\\n2036\\r\\n2039\\r\\n2045\\r\\n2027\\r\\n2035\\r\\n2014\\r\\n2017\\r\\n2031\\r\\n2033\\r\\n2037\\r\\n2040\\r\\n2044\\r\\n2050\\r\\n2051\\r\\n2049\\r\\n2052\\r\\n2053\\r\\n2068\\r\\n2069\\r\\n2071\\r\\n2073\\r\\n2074\\r\\n2075\\r\\n2086\\r\\n2089\\r\\n2091\\r\\n2092\\r\\n2093\\r\\n2094\\r\\n2095\\r\\n2096\\r\\n2097\\r\\n2100\\r\\n2106\\r\\n2107\\r\\n2108\\r\\n2122\\r\\n2094\\r\\n2095\\r\\n2121\\r\\n2131\\r\\n2132\\r\\n2135\\r\\n2162\\r\\n2177\\r\\n2178\\r\\n2180\\r\\n2199\\r\\n2210\\r\\n2211\\r\\n2213\\r\\n2217\\r\\n2229\\r\\n2255\\r\\n2259\\r\\n2266\\r\\n2268\\r\\n2266\\r\\n2272\\r\\n2278\\r\\n2295\\r\\n2296\\r\\n2294\\r\\n2298\\r\\n2303\\r\\n2309\\r\\n2310\\r\\n2311\\r\\n2312\\r\\n2310\\r\\n2315\\r\\n2316\\r\\n2332\\r\\n2335\\r\\n2337\\r\\n2339\\r\\n2342\\r\\n2343\\r\\n2362\\r\\n2371\\r\\n2373\\r\\n2375\\r\\n2381\\r\\n2380\\r\\n2382\\r\\n2396\\r\\n2398\\r\\n2405\\r\\n2406\\r\\n2403\\r\\n2405\\r\\n2413\\r\\n2418\\r\\n2423\\r\\n2440\\r\\n2443\\r\\n2442\\r\\n2434\\r\\n2436\\r\\n2444\\r\\n2450\\r\\n2456\\r\\n2485\\r\\n2486\\r\\n2487\\r\\n2491\\r\\n2489\\r\\n2490\\r\\n2491\\r\\n2513\\r\\n2509\\r\\n2511\\r\\n2525\\r\\n2526\\r\\n2535\\r\\n2548\\r\\n2551\\r\\n2557\\r\\n2559\\r\\n2560\\r\\n2568\\r\\n2565\\r\\n2591\\r\\n2607\\r\\n2614\\r\\n2615\\r\\n2616\\r\\n2630\\r\\n2665\\r\\n2677\\r\\n2680\\r\\n2679\\r\\n2686\\r\\n2687\\r\\n2692\\r\\n2687\\r\\n2689\\r\\n2690\\r\\n2694\\r\\n2692\\r\\n2693\\r\\n2694\\r\\n2695\\r\\n2696\\r\\n2698\\r\\n2720\\r\\n2743\\r\\n2744\\r\\n2752\\r\\n2777\\r\\n2780\\r\\n2778\\r\\n2786\\r\\n2800\\r\\n2807\\r\\n2808\\r\\n2810\\r\\n2817\\r\\n2823\\r\\n2835\\r\\n2840\\r\\n2848\\r\\n2850\\r\\n2855\\r\\n2856\\r\\n2861\\r\\n2864\\r\\n2890\\r\\n2892\\r\\n2894\\r\\n2905\\r\\n2906\\r\\n2907\\r\\n2918\\r\\n2922\\r\\n2927\\r\\n2928\\r\\n2918\\r\\n2933\\r\\n2934\\r\\n2936\\r\\n2939\\r\\n2947\\r\\n2944\\r\\n2932\\r\\n2938\\r\\n2941\\r\\n2954\\r\\n2957\\r\\n2965\\r\\n2970\\r\\n2971\\r\\n2972\\r\\n2981\\r\\n2984\\r\\n2994\\r\\n3006\\r\\n3028\\r\\n3020\\r\\n3023\\r\\n3026\\r\\n3021\\r\\n3024\\r\\n3016\\r\\n3041\\r\\n3042\\r\\n3053\\r\\n3055\\r\\n3056\\r\\n3057\\r\\n3060\\r\\n3061\\r\\n3062\\r\\n3069\\r\\n3070\\r\\n3097\\r\\n3104\\r\\n3107\\r\\n3110\\r\\n3112\\r\\n3114\\r\\n3115\\r\\n3122\\r\\n3120\\r\\n3121\\r\\n3142\\r\\n3143\\r\\n3167\\r\\n3169\\r\\n3170\\r\\n3172\\r\\n3180\\r\\n3182\\r\\n3181\\r\\n3182\\r\\n3183\\r\\n3184\\r\\n3185\\r\\n3186\\r\\n3201\\r\\n3181\\r\\n3185\\r\\n3187\\r\\n3166\\r\\n3162\\r\\n3164\\r\\n3167\\r\\n3168\\r\\n3180\\r\\n3189\\r\\n3190\\r\\n3191\\r\\n3189\\r\\n3191\\r\\n3196\\r\\n3213\\r\\n3224\\r\\n3229\\r\\n3233\\r\\n3232\\r\\n3245\\r\\n3279\\r\\n3302\\r\\n3313\\r\\n3316\\r\\n3333\\r\\n3334\\r\\n3337\\r\\n3339\\r\\n3348\\r\\n3364\\r\\n3365\\r\\n3375\\r\\n3380\\r\\n3381\\r\\n3382\\r\\n3402\\r\\n3418\\r\\n3433\\r\\n3438\\r\\n3439\\r\\n3453\\r\\n3482\\r\\n3484\\r\\n3488\\r\\n3497\\r\\n3511\\r\\n3500\\r\\n3502\\r\\n3497\\r\\n3502\\r\\n3505\\r\\n3516\\r\\n3517\\r\\n3519\\r\\n3525\\r\\n3520\\r\\n3524\\r\\n3528\\r\\n3533\\r\\n3548\\r\\n3552\\r\\n3555\\r\\n3562\\r\\n3573\\r\\n3577\\r\\n3579\\r\\n3587\\r\\n3592\\r\\n3620\\r\\n3615\\r\\n3616\\r\\n3619\\r\\n3620\\r\\n3631\\r\\n3630\\r\\n3640\\r\\n3674\\r\\n3675\\r\\n3684\\r\\n3685\\r\\n3699\\r\\n3701\\r\\n3694\\r\\n3727\\r\\n3746\\r\\n3749\\r\\n3742\\r\\n3745\\r\\n3748\\r\\n3756\\r\\n3759\\r\\n3746\\r\\n3759\\r\\n3762\\r\\n3763\\r\\n3748\\r\\n3762\\r\\n3760\\r\\n3766\\r\\n3770\\r\\n3774\\r\\n3776\\r\\n3778\\r\\n3785\\r\\n3787\\r\\n3788\\r\\n3815\\r\\n3816\\r\\n3822\\r\\n3832\\r\\n3831\\r\\n3832\\r\\n3835\\r\\n3834\\r\\n3820\\r\\n3822\\r\\n3823\\r\\n3825\\r\\n3826\\r\\n3831\\r\\n3833\\r\\n3843\\r\\n3864\\r\\n3889\\r\\n3895\\r\\n3903\\r\\n3908\\r\\n3910\\r\\n3909\\r\\n3911\\r\\n3912\\r\\n3913\\r\\n3921\\r\\n3948\\r\\n3949\\r\\n3954\\r\\n3955\\r\\n3958\\r\\n3960\\r\\n3962\\r\\n3963\\r\\n3975\\r\\n3986\\r\\n3989\\r\\n3990\\r\\n3992\\r\\n4006\\r\\n4012\\r\\n4032\\r\\n4036\\r\\n4037\\r\\n4038\\r\\n4041\\r\\n4048\\r\\n4056\\r\\n4041\\r\\n4044\\r\\n4048\\r\\n4077\\r\\n4076\\r\\n4088\\r\\n4072\\r\\n4073\\r\\n4075\\r\\n4080\\r\\n4075\\r\\n4080\\r\\n4081\\r\\n4110\\r\\n4139\\r\\n4142\\r\\n4143\\r\\n4145\\r\\n4148\\r\\n4155\\r\\n4157\\r\\n4163\\r\\n4164\\r\\n4174\\r\\n4181\\r\\n4186\\r\\n4193\\r\\n4195\\r\\n4198\\r\\n4197\\r\\n4202\\r\\n4209\\r\\n4208\\r\\n4211\\r\\n4213\\r\\n4211\\r\\n4223\\r\\n4222\\r\\n4224\\r\\n4232\\r\\n4234\\r\\n4239\\r\\n4243\\r\\n4245\\r\\n4247\\r\\n4248\\r\\n4252\\r\\n4245\\r\\n4253\\r\\n4289\\r\\n4288\\r\\n4290\\r\\n4292\\r\\n4294\\r\\n4295\\r\\n4298\\r\\n4308\\r\\n4314\\r\\n4315\\r\\n4320\\r\\n4328\\r\\n4326\\r\\n4328\\r\\n4334\\r\\n4330\\r\\n4339\\r\\n4362\\r\\n4363\\r\\n4364\\r\\n4365\\r\\n4366\\r\\n4375\\r\\n4388\\r\\n4389\\r\\n4395\\r\\n4382\\r\\n4393\\r\\n4385\\r\\n4381\\r\\n4380\\r\\n4391\\r\\n4392\\r\\n4409\\r\\n4410\\r\\n4414\\r\\n4434\\r\\n4445\\r\\n4452\\r\\n4457\\r\\n4453\\r\\n4461\\r\\n4469\\r\\n4468\\r\\n4487\\r\\n4482\\r\\n4505\\r\\n4512\\r\\n4513\\r\\n4517\\r\\n4535\\r\\n4542\\r\\n4544\\r\\n4546\\r\\n4559\\r\\n4560\\r\\n4575\\r\\n4576\\r\\n4578\\r\\n4579\\r\\n4580\\r\\n4581\\r\\n4582\\r\\n4585\\r\\n4589\\r\\n4588\\r\\n4592\\r\\n4593\\r\\n4594\\r\\n4620\\r\\n4621\\r\\n4632\\r\\n4633\\r\\n4634\\r\\n4640\\r\\n4641\\r\\n4643\\r\\n4651\\r\\n4666\\r\\n4672\\r\\n4673\\r\\n4672\\r\\n4674\\r\\n4695\\r\\n4697\\r\\n4707\\r\\n4706\\r\\n4708\\r\\n4709\\r\\n4705\\r\\n4702\\r\\n4694\\r\\n4732\\r\\n4734\\r\\n4735\\r\\n4723\\r\\n4728\\r\\n4734\\r\\n4752\\r\\n4754\\r\\n4756\\r\\n4759\\r\\n4768\\r\\n4770\\r\\n4773\\r\\n4780\\r\\n4781\\r\\n4783\\r\\n4792\\r\\n4797\\r\\n4806\\r\\n4825\\r\\n4833\\r\\n4839\\r\\n4838\\r\\n4842\\r\\n4843\\r\\n4853\\r\\n4851\\r\\n4852\\r\\n4853\\r\\n4834\\r\\n4835\\r\\n4836\\r\\n4837\\r\\n4838\\r\\n4837\\r\\n4833\\r\\n4843\\r\\n4844\\r\\n4825\\r\\n4826\\r\\n4832\\r\\n4833\\r\\n4832\\r\\n4840\\r\\n4844\\r\\n4838\\r\\n4839\\r\\n4862\\r\\n4867\\r\\n4868\\r\\n4873\\r\\n4877\\r\\n4881\\r\\n4888\\r\\n4891\\r\\n4896\\r\\n4911\\r\\n4910\\r\\n4911\\r\\n4906\\r\\n4913\\r\\n4915\\r\\n4918\\r\\n4926\\r\\n4933\\r\\n4968\\r\\n4969\\r\\n4970\\r\\n4974\\r\\n4978\\r\\n4979\\r\\n5002\\r\\n5008\\r\\n5010\\r\\n5034\\r\\n5040\\r\\n5034\\r\\n5035\\r\\n5046\\r\\n5042\\r\\n5044\\r\\n5060\\r\\n5063\\r\\n5068\\r\\n5069\\r\\n5078\\r\\n5079\\r\\n5080\\r\\n5081\\r\\n5080\\r\\n5066\\r\\n5081\\r\\n5105\\r\\n5113\\r\\n5122\\r\\n5125\\r\\n5129\\r\\n5144\\r\\n5136\\r\\n5101\\r\\n5102\\r\\n5104\\r\\n5106\\r\\n5107\\r\\n5109\\r\\n5114\\r\\n5116\\r\\n5112\\r\\n5116\\r\\n5114\\r\\n5118\\r\\n5121\\r\\n5127\\r\\n5138\\r\\n5125\\r\\n5133\\r\\n5127\\r\\n5140\\r\\n5142\\r\\n5143\\r\\n5144\\r\\n5150\\r\\n5154\\r\\n5155\\r\\n5156\\r\\n5177\\r\\n5180\\r\\n5182\\r\\n5170\\r\\n5171\\r\\n5159\\r\\n5165\\r\\n5166\\r\\n5173\\r\\n5172\\r\\n5186\\r\\n5195\\r\\n5200\\r\\n5201\\r\\n5229\\r\\n5231\\r\\n5233\\r\\n5234\\r\\n5258\\r\\n5268\\r\\n5278\\r\\n5279\\r\\n5284\\r\\n5288\\r\\n5285\\r\\n5292\\r\\n5319\\r\\n5323\\r\\n5325\\r\\n5332\\r\\n5343\\r\\n5366\\r\\n5368\\r\\n5367\\r\\n5370\\r\\n5377\\r\\n5394\\r\\n5395\\r\\n5394\\r\\n5398\\r\\n5399\\r\\n5405\\r\\n5407\\r\\n5415\\r\\n5416\\r\\n5422\\r\\n5423\\r\\n5424\\r\\n5442\\r\\n5446\\r\\n5447\\r\\n5448\\r\\n5454\\r\\n5455\\r\\n5456\\r\\n5457\\r\\n5473\\r\\n5475\\r\\n5474\\r\\n5475\\r\\n5486\\r\\n5506\\r\\n5489\\r\\n5526\\r\\n5527\\r\\n5529\\r\\n5532\\r\\n5533\\r\\n5548\\r\\n5549\\r\\n5552\\r\\n5541\\r\\n5548\\r\\n5567\\r\\n5577\\r\\n5578\\r\\n5577\\r\\n5592\\r\\n5598\\r\\n5602\\r\\n5609\\r\\n5611\\r\\n5626\\r\\n5604\\r\\n5614\\r\\n5615\\r\\n5616\\r\\n5617\\r\\n5634\\r\\n5644\\r\\n5632\\r\\n5645\\r\\n5644\\r\\n5658\\r\\n5661\\r\\n5662\\r\\n5664\\r\\n5665\\r\\n5660\\r\\n5684\\r\\n5686\\r\\n5689\\r\\n5692\\r\\n5693\\r\\n5700\\r\\n5709\\r\\n5714\\r\\n5715\\r\\n5701\\r\\n5694\\r\\n5696\\r\\n5702\\r\\n5712\\r\\n5727\\r\\n5743\\r\\n5747\\r\\n5750\\r\\n5756\\r\\n5757\\r\\n5758\\r\\n5770\\r\\n5771\\r\\n5780\\r\\n5789\\r\\n5795\\r\\n5800\\r\\n5801\\r\\n5808\\r\\n5809\\r\\n5810\\r\\n5824\\r\\n5825\\r\\n5822\\r\\n5828\\r\\n5829\\r\\n5832\\r\\n5847\\r\\n5848\\r\\n5864\\r\\n5871\\r\\n5879\\r\\n5883\\r\\n5885\\r\\n5888\\r\\n5889\\r\\n5890\\r\\n5903\\r\\n5904\\r\\n5919\\r\\n5924\\r\\n5932\\r\\n5944\\r\\n5950\\r\\n5949\\r\\n5969\\r\\n5961\\r\\n5981\\r\\n5989\\r\\n5992\\r\\n5997\\r\\n5999\\r\\n6000\\r\\n6007\\r\\n6008\\r\\n6011\\r\\n6025\\r\\n6030\\r\\n6034\\r\\n6038\\r\\n6046\\r\\n6051\\r\\n6052\\r\\n6053\\r\\n6082\\r\\n6102\\r\\n6101\\r\\n6105\\r\\n6106\\r\\n6119\\r\\n6124\\r\\n6132\\r\\n6131\\r\\n6133\\r\\n6136\\r\\n6137\\r\\n6170\\r\\n6173\\r\\n6190\\r\\n6199\\r\\n6200\\r\\n6203\\r\\n6207\\r\\n6224\\r\\n6226\\r\\n6227\\r\\n6228\\r\\n6229\\r\\n6231\\r\\n6251\\r\\n6254\\r\\n6279\\r\\n6282\\r\\n6293\\r\\n6294\\r\\n6296\\r\\n6301\\r\\n6306\\r\\n6307\\r\\n6310\\r\\n6315\\r\\n6316\\r\\n6328\\r\\n6329\\r\\n6330\\r\\n6333\\r\\n6351\\r\\n6353\\r\\n6352\\r\\n6362\\r\\n6340\\r\\n6343\\r\\n6349\\r\\n6357\\r\\n6380\\r\\n6379\\r\\n6386\\r\\n6410\\r\\n6433\\r\\n6442\\r\\n6456\\r\\n6457\\r\\n6458\\r\\n6474\\r\\n6485\\r\\n6487\\r\\n6489\\r\\n6481\\r\\n6466\\r\\n6469\\r\\n6474\\r\\n6478\\r\\n6482\\r\\n6492\\r\\n6509\\r\\n6511\\r\\n6534\\r\\n6567\\r\\n6566\\r\\n6569\\r\\n6578\\r\\n6592\\r\\n6593\\r\\n6594\\r\\n6602\\r\\n6607\\r\\n6614\\r\\n6617\\r\\n6614\\r\\n6613\\r\\n6614\\r\\n6618\\r\\n6619\\r\\n6629\\r\\n6645\\r\\n6652\\r\\n6651\\r\\n6655\\r\\n6658\\r\\n6669\\r\\n6692\\r\\n6693\\r\\n6700\\r\\n6705\\r\\n6706\\r\\n6710\\r\\n6709\\r\\n6691\\r\\n6710\\r\\n6711\\r\\n6719\\r\\n6721\\r\\n6722\\r\\n6726\\r\\n6727\\r\\n6739\\r\\n6741\\r\\n6753\\r\\n6754\\r\\n6764\\r\\n6767\\r\\n6772\\r\\n6798\\r\\n6812\\r\\n6818\\r\\n6850\\r\\n6851\\r\\n6886\\r\\n6887\\r\\n6888\\r\\n6889\\r\\n6903\\r\\n6902\\r\\n6903\\r\\n6906\\r\\n6896\\r\\n6902\\r\\n6903\\r\\n6905\\r\\n6909\\r\\n6915\\r\\n6916\\r\\n6917\\r\\n6937\\r\\n6934\\r\\n6935\\r\\n6960\\r\\n6973\\r\\n6974\\r\\n6996\\r\\n6997\\r\\n7009\\r\\n7010\\r\\n7016\\r\\n7017\\r\\n7032\\r\\n7036\\r\\n7049\\r\\n7059\\r\\n7065\\r\\n7066\\r\\n7067\\r\\n7072\\r\\n7102\\r\\n7105\\r\\n7109\\r\\n7134\\r\\n7139\\r\\n7141\\r\\n7135\\r\\n7141\\r\\n7145\\r\\n7150\\r\\n7155\\r\\n7156\\r\\n7157\\r\\n7159\\r\\n7172\\r\\n7186\\r\\n7185\\r\\n7213\\r\\n7217\\r\\n7225\\r\\n7228\\r\\n7251\\r\\n7268\\r\\n7273\\r\\n7271\\r\\n7287\\r\\n7288\\r\\n7289\\r\\n7314\\r\\n7319\\r\\n7323\\r\\n7339\\r\\n7345\\r\\n7346\\r\\n7348\\r\\n7347\\r\\n7348\\r\\n7356\\r\\n7376\\r\\n7385\\r\\n7387\\r\\n7386\\r\\n7389\\r\\n7400\\r\\n7401\\r\\n7408\\r\\n7413\\r\\n7414\\r\\n7415\\r\\n7429\\r\\n7456\\r\\n7442\\r\\n7444\\r\\n7451\\r\\n7452\\r\\n7450\\r\\n7451\\r\\n7450\\r\\n7491\\r\\n7503\\r\\n7496\\r\\n7497\\r\\n7499\\r\\n7517\\r\\n7518\\r\\n7523\\r\\n7526\\r\\n7527\\r\\n7539\\r\\n7540\\r\\n7541\\r\\n7565\\r\\n7568\\r\\n7571\\r\\n7575\\r\\n7576\\r\\n7587\\r\\n7588\\r\\n7598\\r\\n7600\\r\\n7603\\r\\n7605\\r\\n7623\\r\\n7624\\r\\n7629\\r\\n7625\\r\\n7627\\r\\n7632\\r\\n7638\\r\\n7648\\r\\n7650\\r\\n7654\\r\\n7655\\r\\n7656\\r\\n7659\\r\\n7679\\r\\n7681\\r\\n7687\\r\\n7690\\r\\n7691\\r\\n7710\\r\\n7711\\r\\n7712\\r\\n7731\\r\\n7734\\r\\n7735\\r\\n7738\\r\\n7739\\r\\n7737\\r\\n7738\\r\\n7733\\r\\n7752\\r\\n7755\\r\\n7762\\r\\n7763\\r\\n7787\\r\\n7797\\r\\n7798\\r\\n7800\\r\\n7805\\r\\n7838\\r\\n7841\\r\\n7842\\r\\n7867\\r\\n7868\\r\\n7875\\r\\n7882\\r\\n7896\\r\\n7887\\r\\n7889\\r\\n7890\\r\\n7909\\r\\n7885\\r\\n7886\\r\\n7894\\r\\n7897\\r\\n7899\\r\\n7917\\r\\n7918\\r\\n7911\\r\\n7910\\r\\n7916\\r\\n7915\\r\\n7916\\r\\n7917\\r\\n7922\\r\\n7935\\r\\n7943\\r\\n7940\\r\\n7941\\r\\n7953\\r\\n7947\\r\\n7950\\r\\n7969\\r\\n7970\\r\\n7987\\r\\n7997\\r\\n8001\\r\\n7989\\r\\n7990\\r\\n7992\\r\\n7994\\r\\n7996\\r\\n7997\\r\\n8006\\r\\n8021\\r\\n8031\\r\\n8032\\r\\n8042\\r\\n8055\\r\\n8062\\r\\n8066\\r\\n8067\\r\\n8071\\r\\n8073\\r\\n8075\\r\\n8076\\r\\n8078\\r\\n8081\\r\\n8107\\r\\n8106\\r\\n8105\\r\\n8111\\r\\n8116\\r\\n8125\\r\\n8133\\r\\n8130\\r\\n8151\\r\\n8159\\r\\n8158\\r\\n8180\\r\\n8175\\r\\n8184\\r\\n8189\\r\\n8190\\r\\n8193\\r\\n8227\\r\\n8251\\r\\n8252\\r\\n8243\\r\\n8235\\r\\n8236\\r\\n8255\\r\\n8263\\r\\n8272\\r\\n8275\\r\\n8279\\r\\n8281\\r\\n8287\\r\\n8296\\r\\n8299\\r\\n8311\\r\\n8312\\r\\n8315\\r\\n8321\\r\\n8314\\r\\n8323\\r\\n8324\\r\\n8325\\r\\n8318\\r\\n8321\\r\\n8337\\r\\n8338\\r\\n8354\\r\\n8364\\r\\n8374\\r\\n8381\\r\\n8383\\r\\n8393\\r\\n8394\\r\\n8419\\r\\n8433\\r\\n8432\\r\\n8433\\r\\n8441\\r\\n8447\\r\\n8445\\r\\n8457\\r\\n8460\\r\\n8458\\r\\n8469\\r\\n8477\\r\\n8479\\r\\n8480\\r\\n8486\\r\\n8483\\r\\n8485\\r\\n8490\\r\\n8489\\r\\n8490\\r\\n8502\\r\\n8506\\r\\n8505\\r\\n8507\\r\\n8516\\r\\n8525\\r\\n8526\\r\\n8533\\r\\n8539\\r\\n8546\\r\\n8541\\r\\n8545\\r\\n8555\\r\\n8564\\r\\n8580\\r\\n8581\\r\\n8575\\r\\n8585\\r\\n8598\\r\\n8602\\r\\n8603\\r\\n8604\\r\\n8605\\r\\n8601\\r\\n8603\\r\\n8621\\r\\n8608\\r\\n8621\\r\\n8627\\r\\n8631\\r\\n8634\\r\\n8636\\r\\n8669\\r\\n8671\\r\\n8691\\r\\n8687\\r\\n8702\\r\\n8705\\r\\n8714\\r\\n8716\\r\\n8718\\r\\n8719\\r\\n8740\\r\\n8741\\r\\n8742\\r\\n8743\\r\\n8740\\r\\n8744\\r\\n8747\\r\\n8732\\r\\n8734\\r\\n8737\\r\\n8762\\r\\n8767\\r\\n8770\\r\\n8769\\r\\n8773\\r\\n8774\\r\\n8767\\r\\n8800\\r\\n8802\\r\\n8803\\r\\n8808\\r\\n8814\\r\\n8818\\r\\n8823\\r\\n8827\\r\\n8828\\r\\n8835\\r\\n8843\\r\\n8844\\r\\n8850\\r\\n8852\\r\\n8849\\r\\n8858\\r\\n8854\\r\\n8841\\r\\n8844\\r\\n8848\\r\\n8849\\r\\n8885\\r\\n8891\\r\\n8899\\r\\n8902\\r\\n8905\\r\\n8906\\r\\n8917\\r\\n8924\\r\\n8925\\r\\n8931\\r\\n8933\\r\\n8943\\r\\n8951\\r\\n8953\\r\\n8954\\r\\n8966\\r\\n8978\\r\\n8976\\r\\n8989\\r\\n8994\\r\\n8993\\r\\n9002\\r\\n9023\\r\\n9024\\r\\n9057\\r\\n9060\\r\\n9068\\r\\n9070\\r\\n9071\\r\\n9089\\r\\n9099\\r\\n9097\\r\\n9113\\r\\n9123\\r\\n9125\\r\\n9129\\r\\n9124\\r\\n9125\\r\\n9147\\r\\n9151\\r\\n9154\\r\\n9157\\r\\n9159\\r\\n9165\\r\\n9136\\r\\n9138\\r\\n9144\\r\\n9157\\r\\n9190\\r\\n9197\\r\\n9207\\r\\n9214\\r\\n9222\\r\\n9229\\r\\n9230\\r\\n9231\\r\\n9234\\r\\n9243\\r\\n9248\\r\\n9255\\r\\n9256\\r\\n9255\\r\\n9258\\r\\n9269\\r\\n9289\\r\\n9290\\r\\n9292\\r\\n9294\\r\\n9277\\r\\n9278\\r\\n9279\\r\\n9292\\r\\n9293\\r\\n9301\\r\\n9284\\r\\n9285\\r\\n9286\\r\\n9290\\r\\n9293\\r\\n9295\\r\\n9297\\r\\n9314\\r\\n9331\\r\\n9343\\r\\n9346\\r\\n9372\\r\\n9392\\r\\n9395\\r\\n9399\\r\\n9400\\r\\n9401\\r\\n9402\\r\\n9403\\r\\n9416\\r\\n9437\\r\\n9453\\r\\n9455\\r\\n9456\\r\\n9457\\r\\n9458\\r\\n9446\\r\\n9460\\r\\n9461\\r\\n9467\\r\\n9484\\r\\n9469\\r\\n9470\\r\\n9465\\r\\n9480\\r\\n9482\\r\\n9486\\r\\n9490\\r\\n9493\\r\\n9488\\r\\n9510\\r\\n9513\\r\\n9516\\r\\n9518\\r\\n9523\\r\\n9526\\r\\n9530\\r\\n9553\\r\\n9558\\r\\n9562\\r\\n9572\\r\\n9573\\r\\n9583\\r\\n9599\\r\\n9600\\r\\n9601\\r\\n9610\\r\\n9615\\r\\n9634\\r\\n9639\\r\\n9642\\r\\n9669\\r\\n9676\\r\\n9678\\r\\n9679\\r\\n9681\\r\\n9682\\r\\n9684\\r\\n9689\\r\\n9698\\r\\n9709\\r\\n9710\\r\\n9712\\r\\n9719\\r\\n9721\\r\\n9733\\r\\n9734\\r\\n9741\\r\\n9751\\r\\n9767\\r\\n9769\\r\\n9768\\r\\n9770\\r\\n9769\\r\\n9771\\r\\n9773\\r\\n9769\\r\\n9780\\r\\n9787\\r\\n9789\\r\\n9794\\r\\n9802\\r\\n9803\\r\\n9807\\r\\n9809\\r\\n9810\\r\\n9811\\r\\n9813\\r\\n9816\\r\\n9823\\r\\n9828\\r\\n9835\\r\\n9849\\r\\n9851\\r\\n9861\\r\\n9883\\r\\n9884\\r\\n9889\\r\\n9890\\r\\n9893\\r\\n9907\\r\\n9909\\r\\n9923\\r\\n9930\\r\\n9929\\r\\n9912\\r\\n9917\\r\\n9929\\r\\n9930\\r\\n9932\\r\\n9945\\r\\n9959\\r\\n9961\\r\\n9962\\r\\n9982\\r\\n9987\\r\\n9993\\r\\n9996\\r\\n9999\\r\\n10000\\r\\n9990\\r\\n9992\\r\\n9993\\r\\n9995\\r\\n10010\\r\\n10014\\r\\n10020\\r\\n10021\\r\\n10029\\r\\n10041\\r\\n10047\\r\\n10052\\r\\n10056\\r\\n10057\\r\\n10060\\r\\n10078\\r\\n10083\\r\\n10101\\r\\n10103\\r\\n10110\\r\\n10116\\r\\n10128\\r\\n10131\\r\\n10132\\r\\n10143\\r\\n10148\\r\\n10151\\r\\n10156\\r\\n10159\\r\\n10164\\r\\n10165\\r\\n10189\\r\\n10190\\r\\n10202\\r\\n10203\\r\\n10207\\r\\n10199\\r\\n10216\\r\\n10215\\r\\n10221\\r\\n10239\\r\\n10244\\r\\n10245\\r\\n10262\\r\\n10265\\r\\n10270\\r\\n10271\\r\\n10248\\r\\n10269\\r\\n10272\\r\\n10275\\r\\n10274\\r\\n10280\\r\\n10289\\r\\n10301\\r\\n10304\\r\\n10305\\r\\n10309\\r\\n10306\\r\\n10324\\r\\n10330\\r\\n10337\\r\\n10348\\r\\n10357\\r\\n10362\\r\\n10363\\r\\n10365\\r\\n10366\\r\\n10373\\r\\n10378\\r\\n10379\\r\\n10382\\r\\n10387\\r\\n10395\\r\\n10396\\r\\n10397\\r\\n10406\\r\\n10415'}"
            ]
          },
          "metadata": {},
          "execution_count": 5
        }
      ]
    },
    {
      "cell_type": "code",
      "metadata": {
        "colab": {
          "base_uri": "https://localhost:8080/"
        },
        "id": "C-yqC4ZPHulg",
        "outputId": "9d18705a-301a-4ee7-ecc3-fa2fd597a86f"
      },
      "source": [
        "# Variables\n",
        "a = 0\n",
        "b = 0\n",
        "\n",
        "# Transformación del .txt en un arreglo\n",
        "f = np.loadtxt('Data.txt',dtype=int)\n",
        "\n",
        "# Contador de incrementos entre las mediciones\n",
        "for i in range(len(f)):\n",
        "    diff = (f[i] - f[i-1])\n",
        "    if (diff>0):\n",
        "      a = a + 1\n",
        "    else:\n",
        "      b = b + 1\n",
        "\n",
        "# Imprimimos los incrementos y decrementos\n",
        "print(\"Increased: \" + str(a))\n",
        "print(\"Decreased: \" + str(b))"
      ],
      "execution_count": 77,
      "outputs": [
        {
          "output_type": "stream",
          "name": "stdout",
          "text": [
            "Increased: 1754\n",
            "Decreased: 246\n"
          ]
        }
      ]
    },
    {
      "cell_type": "code",
      "metadata": {
        "colab": {
          "base_uri": "https://localhost:8080/"
        },
        "id": "JcE40OefKMQT",
        "outputId": "e2f6cf60-7d5d-4ec0-de4c-4ab4cc145e3e"
      },
      "source": [
        "# Variables\n",
        "x = 0\n",
        "y = 0\n",
        "diff = 0\n",
        "arr = []\n",
        "\n",
        "# Transformación del .txt en un arreglo\n",
        "f = np.loadtxt('Data.txt',dtype=int)\n",
        "\n",
        "# Creación de la ventana de mediciones\n",
        "for i in range(len(f)-2):\n",
        "    sum = (f[i] + f[i+1] + f[i+2])\n",
        "    arr.append(sum)\n",
        "\n",
        "# Contador de incrementos entre las mediciones\n",
        "for i in range(len(arr)):\n",
        "  diff = (arr[i] - arr[i-1])\n",
        "  if (diff>0):\n",
        "    x = x + 1\n",
        "  else:\n",
        "    y = y + 1\n",
        "\n",
        "# Imprimimos los incrementos y decrementos\n",
        "print(\"Increased Window: \" + str(x))\n",
        "print(\"Decreased Window: \" + str(y))"
      ],
      "execution_count": 76,
      "outputs": [
        {
          "output_type": "stream",
          "name": "stdout",
          "text": [
            "Increased Window: 1789\n",
            "Decreased Window: 209\n"
          ]
        }
      ]
    }
  ]
}