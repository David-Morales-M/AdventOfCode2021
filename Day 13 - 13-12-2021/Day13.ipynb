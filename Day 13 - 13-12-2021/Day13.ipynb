{
  "nbformat": 4,
  "nbformat_minor": 0,
  "metadata": {
    "colab": {
      "name": "Day13.ipynb",
      "provenance": [],
      "collapsed_sections": []
    },
    "kernelspec": {
      "name": "python3",
      "display_name": "Python 3"
    },
    "language_info": {
      "name": "python"
    }
  },
  "cells": [
    {
      "cell_type": "code",
      "execution_count": null,
      "metadata": {
        "id": "pP0Lpdt3kTTY"
      },
      "outputs": [],
      "source": [
        "# Importar Librerias\n",
        "from google.colab import files\n",
        "import numpy as np "
      ]
    },
    {
      "cell_type": "code",
      "source": [
        "# Subir Archivos\n",
        "files.upload()  "
      ],
      "metadata": {
        "colab": {
          "resources": {
            "http://localhost:8080/nbextensions/google.colab/files.js": {
              "data": "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",
              "ok": true,
              "headers": [
                [
                  "content-type",
                  "application/javascript"
                ]
              ],
              "status": 200,
              "status_text": ""
            }
          },
          "base_uri": "https://localhost:8080/",
          "height": 110
        },
        "id": "5M0rIPk_kVZc",
        "outputId": "fcec1518-7651-4be7-afda-920f1a539eb6"
      },
      "execution_count": null,
      "outputs": [
        {
          "output_type": "display_data",
          "data": {
            "text/html": [
              "\n",
              "     <input type=\"file\" id=\"files-05161359-f801-48d0-8860-c6037a3b200c\" name=\"files[]\" multiple disabled\n",
              "        style=\"border:none\" />\n",
              "     <output id=\"result-05161359-f801-48d0-8860-c6037a3b200c\">\n",
              "      Upload widget is only available when the cell has been executed in the\n",
              "      current browser session. Please rerun this cell to enable.\n",
              "      </output>\n",
              "      <script src=\"/nbextensions/google.colab/files.js\"></script> "
            ],
            "text/plain": [
              "<IPython.core.display.HTML object>"
            ]
          },
          "metadata": {}
        },
        {
          "output_type": "stream",
          "name": "stdout",
          "text": [
            "Saving Data.txt to Data.txt\n"
          ]
        },
        {
          "output_type": "execute_result",
          "data": {
            "text/plain": [
              "{'Data.txt': b'1148,688\\r\\n1020,159\\r\\n857,707\\r\\n1176,415\\r\\n388,275\\r\\n50,849\\r\\n544,520\\r\\n1,418\\r\\n1119,280\\r\\n217,26\\r\\n358,110\\r\\n1302,684\\r\\n910,791\\r\\n45,287\\r\\n544,806\\r\\n423,859\\r\\n529,866\\r\\n1150,686\\r\\n977,668\\r\\n666,245\\r\\n380,603\\r\\n892,343\\r\\n437,483\\r\\n1109,411\\r\\n296,534\\r\\n763,676\\r\\n711,218\\r\\n139,774\\r\\n923,397\\r\\n1202,341\\r\\n664,12\\r\\n416,89\\r\\n522,54\\r\\n524,401\\r\\n541,796\\r\\n1153,523\\r\\n1101,427\\r\\n977,308\\r\\n102,856\\r\\n769,546\\r\\n966,523\\r\\n1218,820\\r\\n833,682\\r\\n872,806\\r\\n457,542\\r\\n333,586\\r\\n238,537\\r\\n528,103\\r\\n169,840\\r\\n321,44\\r\\n102,408\\r\\n825,346\\r\\n1220,791\\r\\n1223,584\\r\\n907,597\\r\\n785,766\\r\\n147,654\\r\\n201,707\\r\\n775,674\\r\\n746,651\\r\\n221,354\\r\\n213,460\\r\\n843,105\\r\\n59,110\\r\\n224,773\\r\\n654,368\\r\\n666,21\\r\\n1134,736\\r\\n475,121\\r\\n445,799\\r\\n1141,411\\r\\n835,688\\r\\n810,12\\r\\n810,882\\r\\n1064,51\\r\\n1240,805\\r\\n266,723\\r\\n125,812\\r\\n1048,299\\r\\n213,68\\r\\n129,738\\r\\n100,256\\r\\n666,551\\r\\n1004,632\\r\\n1250,505\\r\\n119,674\\r\\n565,264\\r\\n937,220\\r\\n387,497\\r\\n1235,259\\r\\n8,658\\r\\n902,294\\r\\n159,884\\r\\n222,159\\r\\n184,645\\r\\n700,646\\r\\n1251,110\\r\\n53,469\\r\\n1228,282\\r\\n157,779\\r\\n862,759\\r\\n694,31\\r\\n10,876\\r\\n652,110\\r\\n1104,505\\r\\n554,582\\r\\n574,742\\r\\n985,642\\r\\n410,830\\r\\n873,420\\r\\n623,42\\r\\n70,89\\r\\n922,395\\r\\n627,446\\r\\n724,848\\r\\n610,534\\r\\n1042,283\\r\\n852,731\\r\\n370,193\\r\\n109,420\\r\\n1275,239\\r\\n582,546\\r\\n88,537\\r\\n1133,682\\r\\n584,847\\r\\n835,654\\r\\n299,649\\r\\n735,82\\r\\n467,547\\r\\n408,51\\r\\n1278,233\\r\\n758,325\\r\\n1044,171\\r\\n233,364\\r\\n490,16\\r\\n326,187\\r\\n455,114\\r\\n1231,504\\r\\n1300,876\\r\\n403,830\\r\\n1185,418\\r\\n731,187\\r\\n256,354\\r\\n1200,725\\r\\n1101,338\\r\\n781,399\\r\\n1207,147\\r\\n1153,502\\r\\n335,752\\r\\n716,389\\r\\n811,747\\r\\n619,311\\r\\n865,95\\r\\n221,443\\r\\n567,310\\r\\n503,112\\r\\n646,658\\r\\n296,617\\r\\n314,40\\r\\n813,483\\r\\n1223,252\\r\\n813,502\\r\\n566,724\\r\\n445,95\\r\\n832,437\\r\\n191,614\\r\\n268,611\\r\\n162,78\\r\\n303,5\\r\\n865,114\\r\\n373,108\\r\\n688,9\\r\\n692,511\\r\\n403,696\\r\\n1071,724\\r\\n786,401\\r\\n544,164\\r\\n150,457\\r\\n75,198\\r\\n1006,607\\r\\n441,68\\r\\n300,873\\r\\n160,686\\r\\n1059,646\\r\\n53,47\\r\\n850,847\\r\\n458,182\\r\\n1265,259\\r\\n869,826\\r\\n571,241\\r\\n408,395\\r\\n1007,889\\r\\n515,95\\r\\n458,163\\r\\n154,761\\r\\n642,774\\r\\n571,653\\r\\n199,266\\r\\n364,719\\r\\n109,474\\r\\n700,360\\r\\n160,14\\r\\n671,345\\r\\n448,583\\r\\n711,666\\r\\n296,277\\r\\n984,187\\r\\n1096,824\\r\\n381,469\\r\\n649,624\\r\\n1310,635\\r\\n1206,607\\r\\n392,35\\r\\n381,698\\r\\n520,479\\r\\n482,145\\r\\n498,444\\r\\n239,170\\r\\n601,21\\r\\n522,840\\r\\n1067,770\\r\\n415,259\\r\\n827,595\\r\\n52,725\\r\\n251,597\\r\\n0,10\\r\\n150,736\\r\\n194,840\\r\\n504,630\\r\\n586,275\\r\\n140,387\\r\\n716,284\\r\\n619,127\\r\\n1066,178\\r\\n827,299\\r\\n858,634\\r\\n652,336\\r\\n738,612\\r\\n1016,233\\r\\n431,595\\r\\n760,656\\r\\n909,803\\r\\n960,679\\r\\n171,376\\r\\n45,194\\r\\n687,852\\r\\n923,385\\r\\n1116,840\\r\\n112,696\\r\\n1193,575\\r\\n119,786\\r\\n290,159\\r\\n401,803\\r\\n515,662\\r\\n708,110\\r\\n1054,354\\r\\n1019,351\\r\\n1103,408\\r\\n1250,610\\r\\n979,430\\r\\n213,434\\r\\n574,395\\r\\n1153,859\\r\\n654,635\\r\\n671,526\\r\\n912,873\\r\\n664,236\\r\\n1126,697\\r\\n157,819\\r\\n1129,271\\r\\n460,46\\r\\n494,196\\r\\n604,849\\r\\n1131,206\\r\\n975,80\\r\\n1111,655\\r\\n798,473\\r\\n716,262\\r\\n493,644\\r\\n378,607\\r\\n1087,285\\r\\n490,526\\r\\n914,400\\r\\n485,444\\r\\n938,584\\r\\n735,812\\r\\n639,549\\r\\n408,724\\r\\n244,178\\r\\n934,166\\r\\n739,241\\r\\n325,700\\r\\n139,120\\r\\n1067,124\\r\\n950,681\\r\\n356,863\\r\\n639,345\\r\\n618,735\\r\\n1242,270\\r\\n848,302\\r\\n222,107\\r\\n663,142\\r\\n1302,658\\r\\n441,98\\r\\n850,495\\r\\n759,733\\r\\n386,516\\r\\n488,250\\r\\n892,691\\r\\n869,684\\r\\n1136,886\\r\\n1067,572\\r\\n671,318\\r\\n890,560\\r\\n82,53\\r\\n692,735\\r\\n1061,234\\r\\n1097,460\\r\\n922,275\\r\\n1006,679\\r\\n631,341\\r\\n100,424\\r\\n1032,166\\r\\n959,553\\r\\n1046,22\\r\\n422,64\\r\\n537,266\\r\\n340,830\\r\\n945,562\\r\\n190,357\\r\\n1206,516\\r\\n541,546\\r\\n656,78\\r\\n756,190\\r\\n146,411\\r\\n723,15\\r\\n1148,816\\r\\n602,744\\r\\n602,560\\r\\n1171,351\\r\\n262,859\\r\\n761,578\\r\\n410,206\\r\\n923,110\\r\\n223,285\\r\\n554,246\\r\\n420,425\\r\\n251,248\\r\\n1287,229\\r\\n90,651\\r\\n691,311\\r\\n879,161\\r\\n445,418\\r\\n32,9\\r\\n97,681\\r\\n1032,280\\r\\n782,551\\r\\n1228,53\\r\\n479,334\\r\\n869,98\\r\\n1221,264\\r\\n959,889\\r\\n57,120\\r\\n795,120\\r\\n435,452\\r\\n750,830\\r\\n529,674\\r\\n666,721\\r\\n996,152\\r\\n596,740\\r\\n1072,203\\r\\n1141,252\\r\\n937,200\\r\\n825,444\\r\\n192,262\\r\\n117,266\\r\\n969,10\\r\\n45,700\\r\\n202,634\\r\\n909,539\\r\\n930,291\\r\\n852,289\\r\\n1113,459\\r\\n447,668\\r\\n1174,145\\r\\n766,806\\r\\n234,493\\r\\n497,168\\r\\n725,479\\r\\n243,572\\r\\n36,308\\r\\n231,35\\r\\n653,700\\r\\n1155,742\\r\\n967,352\\r\\n90,567\\r\\n1210,256\\r\\n26,133\\r\\n164,430\\r\\n852,182\\r\\n550,835\\r\\n575,278\\r\\n1096,518\\r\\n408,618\\r\\n1126,645\\r\\n291,203\\r\\n843,547\\r\\n393,589\\r\\n251,646\\r\\n403,597\\r\\n956,873\\r\\n504,158\\r\\n438,730\\r\\n1042,611\\r\\n36,383\\r\\n622,233\\r\\n954,255\\r\\n686,336\\r\\n1072,89\\r\\n882,312\\r\\n1012,184\\r\\n1056,231\\r\\n1240,89\\r\\n639,368\\r\\n1185,226\\r\\n37,530\\r\\n1240,133\\r\\n1033,619\\r\\n1116,847\\r\\n624,336\\r\\n1227,770\\r\\n298,38\\r\\n418,243\\r\\n60,877\\r\\n817,112\\r\\n554,638\\r\\n1148,766\\r\\n495,94\\r\\n363,239\\r\\n171,518\\r\\n167,884\\r\\n192,632\\r\\n1227,124\\r\\n119,332\\r\\n1279,42\\r\\n1275,655\\r\\n387,385\\r\\n843,211\\r\\n145,271\\r\\n416,203\\r\\n1042,560\\r\\n560,275\\r\\n378,597\\r\\n199,239\\r\\n1242,723\\r\\n1200,54\\r\\n684,255\\r\\n649,270\\r\\n709,425\\r\\n234,137\\r\\n52,560\\r\\n36,159\\r\\n1298,264\\r\\n1201,420\\r\\n1143,570\\r\\n769,796\\r\\n773,19\\r\\n1181,128\\r\\n474,712\\r\\n535,184\\r\\n713,120\\r\\n1273,635\\r\\n267,385\\r\\n768,849\\r\\n848,592\\r\\n94,718\\r\\n1101,767\\r\\n1054,21\\r\\n156,819\\r\\n827,518\\r\\n1258,560\\r\\n243,770\\r\\n1043,497\\r\\n1278,9\\r\\n234,849\\r\\n962,262\\r\\n602,150\\r\\n720,35\\r\\n1054,522\\r\\n758,38\\r\\n1287,341\\r\\n1207,733\\r\\n1114,849\\r\\n254,572\\r\\n1114,493\\r\\n836,712\\r\\n951,751\\r\\n410,64\\r\\n1282,255\\r\\n818,414\\r\\n776,759\\r\\n813,392\\r\\n1198,824\\r\\n150,158\\r\\n850,757\\r\\n489,334\\r\\n1272,415\\r\\n23,344\\r\\n1043,833\\r\\n110,840\\r\\n104,656\\r\\n750,512\\r\\n766,730\\r\\n1116,137\\r\\n594,610\\r\\n358,534\\r\\n474,182\\r\\n408,276\\r\\n282,870\\r\\n172,749\\r\\n619,799\\r\\n418,19\\r\\n653,418\\r\\n795,792\\r\\n1034,119\\r\\n1191,786\\r\\n1255,228\\r\\n562,220\\r\\n410,688\\r\\n139,214\\r\\n806,630\\r\\n683,446\\r\\n57,827\\r\\n508,147\\r\\n1193,266\\r\\n766,520\\r\\n147,78\\r\\n186,835\\r\\n441,826\\r\\n756,638\\r\\n80,499\\r\\n1141,483\\r\\n1089,443\\r\\n932,597\\r\\n1044,569\\r\\n1185,28\\r\\n937,108\\r\\n915,687\\r\\n165,334\\r\\n954,863\\r\\n468,835\\r\\n246,499\\r\\n671,121\\r\\n89,264\\r\\n745,30\\r\\n542,824\\r\\n311,352\\r\\n395,207\\r\\n878,159\\r\\n981,252\\r\\n104,387\\r\\n623,303\\r\\n333,859\\r\\n972,469\\r\\n1225,155\\r\\n364,287\\r\\n1216,830\\r\\n668,264\\r\\n560,718\\r\\n902,276\\r\\n766,390\\r\\n528,551\\r\\n445,875\\r\\n606,54\\r\\n1242,171\\r\\n1305,668\\r\\n268,507\\r\\n1118,144\\r\\n1076,493\\r\\n112,198\\r\\n773,394\\r\\n403,259\\r\\n1203,228\\r\\n1148,78\\r\\n276,735\\r\\n22,378\\r\\n1029,694\\r\\n1124,835\\r\\n162,206\\r\\n169,483\\r\\n467,120\\r\\n900,830\\r\\n668,64\\r\\n49,367\\r\\n1037,308\\r\\n760,59\\r\\n736,742\\r\\n820,480\\r\\n411,770\\r\\n663,752\\r\\n500,425\\r\\n500,469\\r\\n104,159\\r\\n756,582\\r\\n103,147\\r\\n68,270\\r\\n873,698\\r\\n1146,318\\r\\n1310,240\\r\\n105,764\\r\\n642,64\\r\\n102,38\\r\\n1148,592\\r\\n890,21\\r\\n497,194\\r\\n145,308\\r\\n266,171\\r\\n873,411\\r\\n258,714\\r\\n870,719\\r\\n500,882\\r\\n1253,120\\r\\n261,81\\r\\n744,651\\r\\n1258,520\\r\\n542,70\\r\\n1298,885\\r\\n1115,518\\r\\n813,75\\r\\n852,163\\r\\n587,15\\r\\n460,399\\r\\n552,653\\r\\n89,712\\r\\n806,158\\r\\n88,651\\r\\n381,420\\r\\n726,47\\r\\n547,676\\r\\n925,67\\r\\n1205,92\\r\\n716,610\\r\\n281,786\\r\\n537,319\\r\\n1268,247\\r\\n1208,856\\r\\n497,726\\r\\n460,847\\r\\n181,271\\r\\n981,194\\r\\n1171,571\\r\\n592,200\\r\\n154,133\\r\\n594,505\\r\\n687,303\\r\\n1200,358\\r\\n1255,666\\r\\n159,772\\r\\n535,108\\r\\n453,476\\r\\n1170,112\\r\\n542,268\\r\\n281,694\\r\\n705,815\\r\\n117,866\\r\\n746,203\\r\\n1253,67\\r\\n1191,75\\r\\n119,75\\r\\n328,411\\r\\n850,46\\r\\n1088,607\\r\\n44,646\\r\\n682,761\\r\\n1231,726\\r\\n1200,838\\r\\n445,114\\r\\n176,158\\r\\n335,682\\r\\n129,290\\r\\n1265,194\\r\\n639,318\\r\\n1059,597\\r\\n1116,54\\r\\n45,259\\r\\n701,252\\r\\n644,873\\r\\n1037,831\\r\\n832,736\\r\\n738,393\\r\\n131,70\\r\\n1205,316\\r\\n239,259\\r\\n828,761\\r\\n529,259\\r\\n1086,241\\r\\n1179,824\\r\\n1011,245\\r\\n1295,325\\r\\n791,425\\r\\n282,24\\r\\n792,313\\r\\n879,285\\r\\n441,684\\r\\n1150,219\\r\\n140,283\\r\\n49,115\\r\\n256,873\\r\\n504,264\\r\\n668,824\\r\\n552,508\\r\\n858,260\\r\\n1042,287\\r\\n1146,32\\r\\n594,465\\r\\n431,285\\r\\n1266,646\\r\\n278,166\\r\\n1280,336\\r\\n447,226\\r\\n704,840\\r\\n438,806\\r\\n1298,233\\r\\n687,591\\r\\n1114,737\\r\\n294,885\\r\\n1179,70\\r\\n776,135\\r\\n459,518\\r\\n1144,219\\r\\n666,873\\r\\n1014,617\\r\\n60,389\\r\\n602,179\\r\\n1160,437\\r\\n1153,115\\r\\n915,207\\r\\n100,190\\r\\n1148,480\\r\\n920,263\\r\\n199,655\\r\\n10,245\\r\\n485,848\\r\\n1071,635\\r\\n290,271\\r\\n1054,746\\r\\n387,397\\r\\n177,682\\r\\n586,270\\r\\n658,336\\r\\n1163,654\\r\\n282,758\\r\\n1094,515\\r\\n94,830\\r\\n623,852\\r\\n38,522\\r\\n549,92\\r\\n564,327\\r\\n744,243\\r\\n1200,851\\r\\n495,800\\r\\n1240,668\\r\\n775,786\\r\\n1298,70\\r\\n1200,374\\r\\n835,121\\r\\n186,465\\r\\n415,892\\r\\n851,518\\r\\n564,203\\r\\n1056,663\\r\\n709,873\\r\\n837,623\\r\\n246,395\\r\\n756,424\\r\\n398,204\\r\\n587,187\\r\\n1266,310\\r\\n628,133\\r\\n924,334\\r\\n455,655\\r\\n398,873\\r\\n320,222\\r\\n1170,334\\r\\n83,124\\r\\n739,124\\r\\n959,540\\r\\n1220,679\\r\\n390,631\\r\\n544,88\\r\\n290,607\\r\\n102,632\\r\\n820,576\\r\\n278,280\\r\\n1310,187\\r\\n80,395\\r\\n105,443\\r\\n70,668\\r\\n1044,395\\r\\n251,382\\r\\n68,848\\r\\n267,61\\r\\n1111,332\\r\\n127,556\\r\\n1258,179\\r\\n1044,505\\r\\n738,282\\r\\n82,612\\r\\n934,614\\r\\n1054,204\\r\\n72,348\\r\\n254,663\\r\\n1043,397\\r\\n85,291\\r\\n877,155\\r\\n417,91\\r\\n460,137\\r\\n565,579\\r\\n564,567\\r\\n1041,550\\r\\n565,30\\r\\n1000,859\\r\\n1056,791\\r\\n688,233\\r\\n595,336\\r\\n1012,479\\r\\n140,334\\r\\n256,148\\r\\n1220,651\\r\\n542,178\\r\\n209,767\\r\\n534,759\\r\\n1287,547\\r\\n1213,681\\r\\n1076,849\\r\\n508,747\\r\\n273,831\\r\\n276,149\\r\\n256,298\\r\\n194,54\\r\\n872,88\\r\\n441,656\\r\\n214,175\\r\\n266,569\\r\\n865,875\\r\\n12,630\\r\\n1000,523\\r\\n1242,494\\r\\n873,196\\r\\n157,35\\r\\n420,469\\r\\n445,780\\r\\n551,733\\r\\n760,835\\r\\n1118,750\\r\\n551,161\\r\\n709,831\\r\\n448,311\\r\\n1275,319\\r\\n1057,192\\r\\n136,749\\r\\n628,761\\r\\n365,332\\r\\n1153,75\\r\\n846,117\\r\\n546,133\\r\\n1288,378\\r\\n900,512\\r\\n223,609\\r\\n350,159\\r\\n1287,344\\r\\n1103,668\\r\\n125,418\\r\\n440,719\\r\\n832,826\\r\\n36,586\\r\\n776,57\\r\\n1171,214\\r\\n480,456\\r\\n668,120\\r\\n646,12\\r\\n947,95\\r\\n378,159\\r\\n31,852\\r\\n1170,387\\r\\n535,786\\r\\n572,612\\r\\n619,583\\r\\n1086,101\\r\\n432,159\\r\\n560,619\\r\\n2,320\\r\\n1143,10\\r\\n53,847\\r\\n256,220\\r\\n894,805\\r\\n152,186\\r\\n136,817\\r\\n32,233\\r\\n1101,786\\r\\n579,288\\r\\n117,351\\r\\n1043,845\\r\\n731,707\\r\\n666,18\\r\\n1208,408\\r\\n32,885\\r\\n268,283\\r\\n929,698\\r\\n326,570\\r\\n590,35\\r\\n104,607\\r\\n654,436\\r\\n139,571\\r\\n619,655\\r\\n403,417\\r\\n1076,401\\r\\n1220,243\\r\\n990,672\\r\\n1308,574\\r\\n1109,707\\r\\n1032,614\\r\\n499,152\\r\\n\\r\\nfold along x=655\\r\\nfold along y=447\\r\\nfold along x=327\\r\\nfold along y=223\\r\\nfold along x=163\\r\\nfold along y=111\\r\\nfold along x=81\\r\\nfold along y=55\\r\\nfold along x=40\\r\\nfold along y=27\\r\\nfold along y=13\\r\\nfold along y=6'}"
            ]
          },
          "metadata": {},
          "execution_count": 3
        }
      ]
    },
    {
      "cell_type": "markdown",
      "source": [
        "# Parte 1"
      ],
      "metadata": {
        "id": "xzKpGEdnFKuc"
      }
    },
    {
      "cell_type": "code",
      "source": [
        "# Función para los dobleces del papel, tomamos los puntos del plano\n",
        "# el eje por el que se doblará y el valor por el cuál se realizará el doblez \n",
        "def fold_paper(points, axis, n):\n",
        "    # Si el eje es x\n",
        "    if axis == 'x':\n",
        "        # Si x es mayor al eje se realiza la operación para encontrar la posición\n",
        "        # del punto en el nuevo espacio, si x es menor o igual esta se mantiene \n",
        "        return {(x-(x-n)*2, y) if x > n else (x, y) for x, y in points}\n",
        "    # En el eje x se realiza algo similar si y es mayor al eje de doblez, y se\n",
        "    # mantiene si y es menor o igual\n",
        "    return {(x, y-(y-n)*2) if y > n else (x, y) for x, y in points}\n",
        "\n",
        "# Función para contar los puntos, recibe el mapa de puntos como parámetro\n",
        "def get_points(points):\n",
        "    # Obtenemos el eje y el valor del primer dobles\n",
        "    axis, n = folds[0]\n",
        "    # Calculamos la longitud del arreglo del papel doblado\n",
        "    return len(fold_paper(points, axis, n))\n",
        "\n",
        "# Con el archivo abierto \n",
        "with open('Data.txt', 'r') as f:\n",
        "    # Separamos los puntos de los dobleces \n",
        "    points, folds = f.read().split('\\n\\n')\n",
        "    # Los puntos se guardarán en una tupla con las coordenadas\n",
        "    points = {tuple(map(int, p.split(','))) for p in points.split('\\n')}\n",
        "    print(points)\n",
        "    # Guardamos el eje y el valor del doblez\n",
        "    folds = [(fold[11], int(fold[13:])) for fold in folds.split('\\n')]\n",
        "\n",
        "# Resultado\n",
        "# Cantidad de puntos despues de 1 doblez\n",
        "print('Puntos después del primer doblez: ' + str(get_points(points)))\n"
      ],
      "metadata": {
        "colab": {
          "base_uri": "https://localhost:8080/"
        },
        "id": "KUQTc7W9C7qJ",
        "outputId": "0c55e88f-89f5-4a80-dea8-fba140e3b555"
      },
      "execution_count": 12,
      "outputs": [
        {
          "output_type": "stream",
          "name": "stdout",
          "text": [
            "{(243, 572), (441, 68), (738, 393), (432, 159), (692, 511), (266, 723), (586, 275), (937, 220), (448, 583), (246, 499), (117, 866), (267, 61), (1033, 619), (1118, 144), (907, 597), (1072, 89), (1037, 831), (892, 691), (1101, 427), (1207, 733), (146, 411), (639, 368), (1227, 124), (1004, 632), (1066, 178), (192, 262), (254, 572), (1200, 374), (194, 54), (1250, 505), (769, 796), (278, 166), (36, 159), (694, 31), (923, 385), (1255, 666), (234, 493), (417, 91), (684, 255), (490, 526), (763, 676), (1275, 319), (460, 137), (136, 749), (687, 852), (671, 526), (1116, 137), (1218, 820), (381, 469), (1148, 78), (199, 266), (1310, 240), (1019, 351), (244, 178), (691, 311), (560, 275), (1191, 75), (156, 819), (100, 256), (1, 418), (938, 584), (542, 268), (1266, 310), (1153, 502), (102, 38), (785, 766), (981, 194), (879, 161), (791, 425), (467, 547), (89, 712), (171, 518), (1201, 420), (520, 479), (127, 556), (649, 624), (243, 770), (224, 773), (668, 64), (985, 642), (31, 852), (910, 791), (738, 612), (584, 847), (154, 761), (459, 518), (12, 630), (1076, 401), (959, 553), (45, 259), (1275, 239), (984, 187), (782, 551), (44, 646), (786, 401), (239, 170), (716, 389), (1115, 518), (1179, 70), (564, 203), (873, 420), (776, 135), (596, 740), (746, 651), (455, 655), (172, 749), (152, 186), (147, 78), (333, 859), (653, 700), (1086, 241), (500, 425), (1235, 259), (951, 751), (497, 726), (1054, 746), (1096, 518), (1206, 607), (403, 597), (1096, 824), (177, 682), (296, 534), (1089, 443), (758, 325), (700, 360), (104, 607), (761, 578), (88, 651), (23, 344), (112, 198), (652, 110), (508, 747), (912, 873), (160, 14), (544, 806), (915, 687), (190, 357), (959, 889), (1202, 341), (1057, 192), (381, 698), (365, 332), (1148, 688), (934, 166), (159, 772), (495, 94), (38, 522), (37, 530), (1213, 681), (723, 15), (45, 700), (745, 30), (139, 571), (1155, 742), (552, 508), (932, 597), (756, 424), (408, 395), (619, 655), (300, 873), (1251, 110), (408, 276), (1016, 233), (1287, 547), (666, 245), (378, 597), (420, 425), (1242, 494), (268, 507), (902, 294), (666, 873), (26, 133), (401, 803), (1287, 229), (102, 408), (100, 190), (1310, 187), (1071, 635), (497, 168), (628, 761), (468, 835), (1141, 411), (1067, 572), (186, 835), (254, 663), (820, 576), (756, 582), (858, 260), (664, 236), (890, 560), (36, 383), (1298, 264), (110, 840), (1020, 159), (388, 275), (858, 634), (623, 852), (1143, 10), (981, 252), (602, 150), (1000, 523), (960, 679), (440, 719), (1103, 668), (403, 259), (251, 382), (848, 302), (373, 108), (398, 873), (1288, 378), (766, 390), (104, 387), (1113, 459), (1287, 341), (278, 280), (990, 672), (119, 75), (760, 656), (631, 341), (117, 266), (97, 681), (833, 682), (739, 241), (700, 646), (408, 618), (1279, 42), (53, 47), (199, 655), (813, 483), (1046, 22), (759, 733), (1240, 133), (766, 520), (217, 26), (154, 133), (1302, 658), (136, 817), (671, 318), (544, 520), (1076, 849), (1272, 415), (865, 95), (52, 560), (1200, 358), (1056, 791), (668, 120), (878, 159), (1129, 271), (52, 725), (1240, 668), (862, 759), (1253, 120), (869, 826), (234, 137), (49, 367), (1185, 226), (890, 21), (746, 203), (416, 89), (1042, 283), (606, 54), (267, 385), (541, 546), (873, 196), (602, 560), (500, 882), (370, 193), (1126, 645), (813, 502), (720, 35), (445, 799), (104, 159), (565, 579), (529, 866), (654, 635), (150, 457), (575, 278), (497, 194), (380, 603), (671, 121), (865, 875), (333, 586), (1148, 766), (977, 668), (1275, 655), (435, 452), (1191, 786), (314, 40), (1220, 791), (515, 95), (1116, 847), (1200, 54), (925, 67), (872, 806), (233, 364), (724, 848), (129, 290), (415, 892), (1007, 889), (1302, 684), (1278, 9), (1258, 179), (164, 430), (969, 10), (1064, 51), (587, 187), (1043, 845), (1223, 252), (601, 21), (393, 589), (688, 9), (1258, 560), (692, 735), (579, 288), (105, 764), (1208, 856), (1242, 171), (102, 856), (1131, 206), (806, 630), (356, 863), (850, 757), (546, 133), (560, 619), (503, 112), (1006, 607), (94, 718), (387, 397), (68, 848), (165, 334), (663, 142), (1134, 736), (1032, 166), (89, 264), (1295, 325), (704, 840), (1170, 387), (852, 163), (1059, 597), (564, 327), (671, 345), (325, 700), (1223, 584), (535, 184), (150, 158), (140, 283), (551, 161), (194, 840), (567, 310), (619, 799), (416, 203), (438, 806), (1032, 614), (639, 318), (104, 656), (687, 591), (1228, 53), (709, 425), (1032, 280), (1103, 408), (234, 849), (1118, 750), (290, 607), (495, 800), (422, 64), (88, 537), (457, 542), (1043, 833), (150, 736), (852, 731), (140, 387), (646, 658), (827, 299), (1059, 646), (102, 632), (846, 117), (415, 259), (1171, 214), (335, 752), (835, 654), (358, 110), (574, 742), (1305, 668), (709, 873), (1087, 285), (504, 264), (564, 567), (1054, 21), (537, 319), (1071, 724), (290, 159), (387, 385), (1265, 259), (1101, 338), (447, 226), (1216, 830), (828, 761), (75, 198), (1207, 147), (282, 24), (1300, 876), (1042, 611), (485, 848), (256, 148), (966, 523), (850, 847), (474, 182), (445, 418), (1029, 694), (411, 770), (458, 182), (1101, 767), (843, 211), (945, 562), (441, 656), (266, 171), (59, 110), (1153, 859), (273, 831), (2, 320), (125, 812), (70, 89), (562, 220), (202, 634), (60, 877), (395, 207), (1148, 480), (623, 303), (668, 824), (872, 88), (53, 847), (683, 446), (909, 803), (238, 537), (1054, 522), (420, 469), (656, 78), (666, 18), (522, 840), (1044, 505), (1278, 233), (1205, 92), (1287, 344), (1094, 515), (326, 570), (975, 80), (731, 707), (223, 609), (181, 271), (731, 187), (321, 44), (934, 614), (1205, 316), (298, 38), (1181, 128), (103, 147), (950, 681), (1014, 617), (1163, 654), (358, 534), (186, 465), (1000, 859), (256, 354), (460, 399), (624, 336), (832, 736), (1220, 679), (744, 651), (50, 849), (1255, 228), (725, 479), (837, 623), (894, 805), (627, 446), (947, 95), (967, 352), (686, 336), (594, 505), (160, 686), (1227, 770), (1280, 336), (739, 124), (498, 444), (320, 222), (622, 233), (488, 250), (1200, 838), (604, 849), (534, 759), (176, 158), (843, 105), (299, 649), (139, 214), (571, 653), (441, 826), (902, 276), (658, 336), (1109, 707), (664, 12), (1298, 885), (554, 246), (458, 163), (922, 275), (701, 252), (848, 592), (832, 826), (1056, 231), (159, 884), (256, 873), (1176, 415), (268, 611), (542, 70), (900, 512), (1072, 203), (766, 730), (105, 443), (594, 610), (1228, 282), (760, 59), (956, 873), (756, 638), (455, 114), (827, 518), (865, 114), (914, 400), (1126, 697), (474, 712), (311, 352), (398, 204), (1101, 786), (499, 152), (587, 15), (1200, 851), (937, 108), (1011, 245), (1150, 219), (1231, 504), (418, 19), (1146, 32), (781, 399), (565, 264), (157, 779), (735, 812), (954, 863), (441, 684), (1273, 635), (1146, 318), (594, 465), (1185, 28), (652, 336), (639, 345), (1037, 308), (1153, 75), (766, 806), (554, 638), (1061, 234), (756, 190), (145, 308), (954, 255), (768, 849), (431, 285), (8, 658), (551, 733), (687, 303), (1097, 460), (528, 551), (1258, 520), (392, 35), (654, 368), (199, 239), (750, 830), (836, 712), (261, 81), (1308, 574), (169, 483), (544, 88), (979, 430), (258, 714), (574, 395), (378, 607), (529, 674), (550, 835), (1298, 70), (1124, 835), (72, 348), (1104, 505), (326, 187), (290, 271), (112, 696), (602, 179), (157, 35), (403, 830), (408, 724), (825, 444), (1171, 351), (709, 831), (711, 666), (1012, 184), (90, 567), (619, 127), (239, 259), (639, 549), (852, 289), (708, 110), (147, 654), (1043, 497), (654, 436), (387, 497), (1310, 635), (1231, 726), (923, 110), (1114, 737), (281, 786), (929, 698), (1144, 219), (201, 707), (222, 107), (792, 313), (378, 159), (57, 827), (117, 351), (758, 38), (835, 688), (119, 786), (776, 57), (504, 158), (83, 124), (776, 759), (57, 120), (554, 582), (296, 277), (1006, 679), (82, 612), (1240, 89), (1193, 266), (364, 287), (610, 534), (467, 120), (10, 245), (666, 721), (544, 164), (131, 70), (363, 239), (82, 53), (1056, 663), (1253, 67), (959, 540), (738, 282), (191, 614), (619, 583), (688, 233), (475, 121), (1054, 354), (1198, 824), (1044, 171), (850, 46), (294, 885), (571, 241), (930, 291), (403, 417), (281, 694), (1225, 155), (1044, 569), (852, 182), (1067, 770), (582, 546), (524, 401), (879, 285), (262, 859), (119, 332), (1048, 299), (818, 414), (162, 206), (549, 92), (246, 395), (221, 443), (1242, 270), (1148, 816), (795, 792), (892, 343), (1240, 805), (623, 42), (923, 397), (296, 617), (445, 875), (350, 159), (1143, 570), (870, 719), (1268, 247), (835, 121), (489, 334), (479, 334), (403, 696), (565, 30), (390, 631), (1111, 655), (139, 120), (480, 456), (1242, 723), (386, 516), (447, 668), (364, 719), (223, 285), (962, 262), (1220, 243), (192, 632), (282, 758), (340, 830), (1171, 571), (922, 395), (0, 10), (94, 830), (381, 420), (408, 51), (45, 194), (418, 243), (445, 114), (251, 597), (276, 149), (109, 474), (977, 308), (682, 761), (736, 742), (642, 64), (1266, 646), (221, 354), (1114, 849), (213, 460), (528, 103), (1054, 204), (500, 469), (619, 311), (445, 780), (125, 418), (1298, 233), (32, 233), (1185, 418), (773, 394), (53, 469), (1148, 592), (1012, 479), (438, 730), (119, 674), (810, 882), (909, 539), (820, 480), (806, 158), (1208, 408), (750, 512), (1088, 607), (256, 298), (560, 718), (775, 674), (139, 774), (1076, 493), (231, 35), (541, 796), (140, 334), (851, 518), (268, 283), (445, 95), (773, 19), (825, 346), (760, 835), (529, 259), (924, 334), (996, 152), (666, 551), (32, 9), (798, 473), (817, 112), (1133, 682), (542, 824), (1111, 332), (36, 586), (1179, 824), (423, 859), (214, 175), (827, 595), (410, 830), (1086, 101), (1034, 119), (628, 133), (1114, 493), (482, 145), (642, 774), (832, 437), (649, 270), (1150, 686), (882, 312), (70, 668), (1067, 124), (1203, 228), (775, 786), (85, 291), (877, 155), (915, 207), (1193, 575), (171, 376), (485, 444), (857, 707), (453, 476), (1221, 264), (460, 847), (592, 200), (716, 262), (291, 203), (335, 682), (1044, 395), (410, 688), (716, 284), (542, 178), (508, 147), (769, 546), (80, 395), (572, 612), (1041, 550), (1141, 252), (276, 735), (10, 876), (68, 270), (1116, 840), (1042, 560), (744, 243), (1220, 651), (813, 75), (167, 884), (494, 196), (869, 684), (726, 47), (1116, 54), (209, 767), (813, 392), (80, 499), (162, 78), (213, 434), (869, 98), (129, 738), (972, 469), (666, 21), (410, 206), (873, 698), (811, 747), (873, 411), (716, 610), (644, 873), (490, 16), (109, 420), (1174, 145), (1265, 194), (222, 159), (646, 12), (713, 120), (522, 54), (256, 220), (618, 735), (537, 266), (515, 662), (1109, 411), (850, 495), (1210, 256), (493, 644), (937, 200), (1282, 255), (920, 263), (595, 336), (1136, 886), (1200, 725), (535, 786), (535, 108), (431, 595), (566, 724), (100, 424), (251, 248), (410, 64), (266, 569), (668, 264), (602, 744), (1119, 280), (590, 35), (45, 287), (1153, 523), (36, 308), (145, 271), (663, 752), (460, 46), (735, 82), (552, 653), (32, 885), (1170, 334), (437, 483), (705, 815), (586, 270), (1042, 287), (328, 411), (303, 5), (282, 870), (547, 676), (60, 389), (49, 115), (184, 645), (810, 12), (843, 547), (1170, 112), (213, 68), (90, 651), (1043, 397), (504, 630), (900, 830), (653, 418), (711, 218), (157, 819), (795, 120), (169, 840), (22, 378), (1160, 437), (251, 646), (1141, 483), (1206, 516), (1153, 115), (1250, 610), (441, 98), (448, 311)}\n",
            "Puntos después del primer doblez: 781\n"
          ]
        }
      ]
    },
    {
      "cell_type": "markdown",
      "source": [
        "# Parte 2"
      ],
      "metadata": {
        "id": "uS4uKnnQFObl"
      }
    },
    {
      "cell_type": "code",
      "source": [
        "# Función para los dobleces del papel, tomamos los puntos del plano\n",
        "# el eje por el que se doblará y el valor por el cuál se realizará el doblez \n",
        "def fold_paper(points, axis, n):\n",
        "    # Si el eje es x\n",
        "    if axis == 'x':\n",
        "        # Si x es mayor al eje se realiza la operación para encontrar la posición\n",
        "        # del punto en el nuevo espacio, si x es menor o igual esta se mantiene \n",
        "        return {(x-(x-n)*2, y) if x > n else (x, y) for x, y in points}\n",
        "    # En el eje x se realiza algo similar si y es mayor al eje de doblez, y se\n",
        "    # mantiene si y es menor o igual\n",
        "    return {(x, y-(y-n)*2) if y > n else (x, y) for x, y in points}\n",
        "\n",
        "# Función para los puntos\n",
        "def code(points):\n",
        "    # Por cada eje y punto en los dobleces\n",
        "    for axis, n in folds:\n",
        "        # Obtengo los puntos segun el doblez realizado\n",
        "        points = fold_paper(points, axis, n)\n",
        "    # Imprimo el resultado para que se muestre el código\n",
        "    return display_code(points)\n",
        "\n",
        "# Definimos una función para mostrar el código segun el arreglo de puntos y #\n",
        "def display_code(points): \n",
        "    # Definiremos un arreglo de 39 espacios vacios por 6 filas\n",
        "    # necesarias para mostrar el código\n",
        "    arr = [[' '] * 39 for _ in range(6)]\n",
        "    # Por cada uno de los puntos de points agregamos un # según su posición\n",
        "    for y, x in points:\n",
        "        arr[x][y] = '#'\n",
        "    # Retornamos los elementos de la fila de un arreglo unidos y a la vez unidos\n",
        "    # entre estos elementos por un \\n (siguiente línea) \n",
        "    return '\\n'.join(''.join(row) for row in arr)\n",
        "\n",
        "# Con el archivo abierto \n",
        "with open('Data.txt', 'r') as f:\n",
        "    # Separamos los puntos de los dobleces \n",
        "    points, folds = f.read().split('\\n\\n')\n",
        "    # Los puntos se guardarán en una tupla con las coordenadas\n",
        "    points = {tuple(map(int, p.split(','))) for p in points.split('\\n')}\n",
        "    # Guardamos el eje y el valor del doblez\n",
        "    folds = [(fold[11], int(fold[13:])) for fold in folds.split('\\n')]\n",
        "\n",
        "# Resultado \n",
        "# Obtenemos el código de la cámara térmica\n",
        "print(code(points))\n"
      ],
      "metadata": {
        "colab": {
          "base_uri": "https://localhost:8080/"
        },
        "id": "0_l-gTRNFO35",
        "outputId": "f2cb4f66-72f7-46ab-e509-af596a58528a"
      },
      "execution_count": 14,
      "outputs": [
        {
          "output_type": "stream",
          "name": "stdout",
          "text": [
            "###  #### ###   ##   ##    ## ###  ### \n",
            "#  # #    #  # #  # #  #    # #  # #  #\n",
            "#  # ###  #  # #    #       # #  # ### \n",
            "###  #    ###  #    # ##    # ###  #  #\n",
            "#    #    # #  #  # #  # #  # #    #  #\n",
            "#    #### #  #  ##   ###  ##  #    ### \n"
          ]
        }
      ]
    }
  ]
}