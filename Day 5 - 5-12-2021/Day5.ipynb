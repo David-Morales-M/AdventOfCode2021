{
  "nbformat": 4,
  "nbformat_minor": 0,
  "metadata": {
    "colab": {
      "name": "Day5.ipynb",
      "provenance": [],
      "collapsed_sections": []
    },
    "kernelspec": {
      "name": "python3",
      "display_name": "Python 3"
    },
    "language_info": {
      "name": "python"
    }
  },
  "cells": [
    {
      "cell_type": "code",
      "metadata": {
        "id": "IJaPncUe_KQE"
      },
      "source": [
        "# Importar Librerias\n",
        "from google.colab import files\n",
        "import numpy as np "
      ],
      "execution_count": 1,
      "outputs": []
    },
    {
      "cell_type": "code",
      "metadata": {
        "colab": {
          "resources": {
            "http://localhost:8080/nbextensions/google.colab/files.js": {
              "data": "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",
              "ok": true,
              "headers": [
                [
                  "content-type",
                  "application/javascript"
                ]
              ],
              "status": 200,
              "status_text": ""
            }
          },
          "base_uri": "https://localhost:8080/",
          "height": 111
        },
        "id": "BAt8ORZd_PA2",
        "outputId": "7ce5b35c-48de-406e-ac0b-13f526358b4b"
      },
      "source": [
        "# Subir Archivos\n",
        "files.upload()  "
      ],
      "execution_count": 2,
      "outputs": [
        {
          "output_type": "display_data",
          "data": {
            "text/html": [
              "\n",
              "     <input type=\"file\" id=\"files-cbe382e4-9f7a-4bf7-8a83-d2e9ed6ee282\" name=\"files[]\" multiple disabled\n",
              "        style=\"border:none\" />\n",
              "     <output id=\"result-cbe382e4-9f7a-4bf7-8a83-d2e9ed6ee282\">\n",
              "      Upload widget is only available when the cell has been executed in the\n",
              "      current browser session. Please rerun this cell to enable.\n",
              "      </output>\n",
              "      <script src=\"/nbextensions/google.colab/files.js\"></script> "
            ],
            "text/plain": [
              "<IPython.core.display.HTML object>"
            ]
          },
          "metadata": {}
        },
        {
          "output_type": "stream",
          "name": "stdout",
          "text": [
            "Saving Data.txt to Data.txt\n"
          ]
        },
        {
          "output_type": "execute_result",
          "data": {
            "text/plain": [
              "{'Data.txt': b'456,846 -> 221,846\\r\\n980,926 -> 73,19\\r\\n682,930 -> 562,930\\r\\n766,592 -> 274,100\\r\\n247,685 -> 247,21\\r\\n106,800 -> 635,800\\r\\n953,340 -> 135,340\\r\\n293,223 -> 293,12\\r\\n454,196 -> 454,463\\r\\n886,766 -> 164,766\\r\\n592,590 -> 192,590\\r\\n436,982 -> 436,545\\r\\n731,571 -> 420,260\\r\\n741,11 -> 466,11\\r\\n727,541 -> 579,541\\r\\n341,553 -> 25,553\\r\\n942,470 -> 942,196\\r\\n203,600 -> 203,647\\r\\n965,595 -> 949,611\\r\\n554,306 -> 554,401\\r\\n902,438 -> 902,728\\r\\n864,609 -> 525,270\\r\\n187,790 -> 187,323\\r\\n956,950 -> 427,950\\r\\n847,554 -> 422,554\\r\\n935,900 -> 701,900\\r\\n192,854 -> 866,180\\r\\n512,946 -> 543,915\\r\\n978,979 -> 491,979\\r\\n708,61 -> 708,878\\r\\n738,508 -> 282,52\\r\\n23,25 -> 841,843\\r\\n204,750 -> 204,797\\r\\n703,500 -> 703,419\\r\\n14,311 -> 694,311\\r\\n646,301 -> 785,301\\r\\n397,168 -> 439,168\\r\\n680,931 -> 561,812\\r\\n540,448 -> 90,448\\r\\n706,668 -> 91,53\\r\\n848,319 -> 318,319\\r\\n198,948 -> 198,307\\r\\n686,58 -> 686,541\\r\\n867,234 -> 867,498\\r\\n134,125 -> 134,688\\r\\n824,566 -> 53,566\\r\\n437,167 -> 276,167\\r\\n94,65 -> 638,609\\r\\n36,971 -> 971,36\\r\\n494,330 -> 494,197\\r\\n920,438 -> 920,364\\r\\n698,84 -> 49,733\\r\\n59,842 -> 59,876\\r\\n328,577 -> 328,677\\r\\n757,701 -> 134,78\\r\\n466,274 -> 135,605\\r\\n81,925 -> 988,18\\r\\n40,142 -> 882,984\\r\\n50,96 -> 882,928\\r\\n782,47 -> 782,427\\r\\n247,599 -> 24,599\\r\\n112,812 -> 191,733\\r\\n487,198 -> 144,198\\r\\n327,663 -> 327,756\\r\\n117,76 -> 688,76\\r\\n530,71 -> 530,958\\r\\n558,602 -> 671,489\\r\\n677,830 -> 677,556\\r\\n529,669 -> 349,669\\r\\n336,966 -> 341,971\\r\\n20,31 -> 851,862\\r\\n423,880 -> 423,573\\r\\n521,657 -> 552,657\\r\\n412,822 -> 18,428\\r\\n423,311 -> 423,105\\r\\n381,614 -> 705,614\\r\\n521,248 -> 394,121\\r\\n286,47 -> 286,403\\r\\n286,27 -> 711,452\\r\\n347,61 -> 489,61\\r\\n760,454 -> 760,954\\r\\n746,573 -> 911,573\\r\\n839,933 -> 839,776\\r\\n124,815 -> 290,649\\r\\n577,848 -> 419,848\\r\\n393,206 -> 410,206\\r\\n364,755 -> 881,755\\r\\n788,68 -> 788,215\\r\\n94,798 -> 192,798\\r\\n292,250 -> 453,250\\r\\n601,545 -> 293,237\\r\\n438,923 -> 438,655\\r\\n70,757 -> 887,757\\r\\n184,402 -> 818,402\\r\\n586,49 -> 103,49\\r\\n202,315 -> 735,315\\r\\n534,504 -> 534,523\\r\\n367,236 -> 367,736\\r\\n24,163 -> 24,240\\r\\n185,426 -> 634,875\\r\\n485,189 -> 39,189\\r\\n556,30 -> 374,30\\r\\n969,821 -> 676,528\\r\\n254,435 -> 254,43\\r\\n290,615 -> 741,164\\r\\n345,601 -> 120,826\\r\\n224,641 -> 887,641\\r\\n190,716 -> 581,325\\r\\n552,646 -> 552,393\\r\\n413,177 -> 413,103\\r\\n397,900 -> 360,900\\r\\n138,980 -> 138,55\\r\\n909,891 -> 909,593\\r\\n926,986 -> 79,139\\r\\n954,67 -> 53,968\\r\\n180,30 -> 595,30\\r\\n823,165 -> 823,660\\r\\n285,176 -> 375,176\\r\\n915,826 -> 184,95\\r\\n735,230 -> 667,230\\r\\n934,865 -> 917,865\\r\\n48,602 -> 737,602\\r\\n477,319 -> 385,411\\r\\n981,17 -> 11,987\\r\\n458,401 -> 24,401\\r\\n118,415 -> 849,415\\r\\n176,678 -> 176,852\\r\\n567,753 -> 567,37\\r\\n285,868 -> 830,323\\r\\n555,623 -> 822,623\\r\\n522,546 -> 674,546\\r\\n880,21 -> 23,878\\r\\n591,103 -> 591,407\\r\\n434,64 -> 434,401\\r\\n245,968 -> 275,968\\r\\n726,510 -> 450,786\\r\\n768,366 -> 768,738\\r\\n488,745 -> 488,94\\r\\n675,674 -> 675,705\\r\\n618,237 -> 265,237\\r\\n802,709 -> 802,59\\r\\n144,696 -> 144,542\\r\\n547,381 -> 547,799\\r\\n78,667 -> 78,916\\r\\n409,271 -> 302,271\\r\\n294,694 -> 938,50\\r\\n140,571 -> 97,571\\r\\n682,875 -> 682,534\\r\\n748,816 -> 748,183\\r\\n84,622 -> 84,258\\r\\n485,696 -> 582,599\\r\\n909,233 -> 954,233\\r\\n203,711 -> 203,350\\r\\n335,904 -> 455,904\\r\\n578,778 -> 578,21\\r\\n830,954 -> 902,954\\r\\n78,252 -> 78,682\\r\\n920,220 -> 684,220\\r\\n309,301 -> 104,301\\r\\n270,795 -> 270,919\\r\\n906,479 -> 304,479\\r\\n627,164 -> 627,986\\r\\n122,960 -> 915,167\\r\\n664,916 -> 770,810\\r\\n692,810 -> 826,810\\r\\n981,951 -> 192,162\\r\\n183,423 -> 809,423\\r\\n632,464 -> 567,464\\r\\n94,266 -> 94,587\\r\\n261,770 -> 569,770\\r\\n51,403 -> 466,818\\r\\n631,645 -> 187,645\\r\\n141,238 -> 141,145\\r\\n357,21 -> 173,21\\r\\n138,248 -> 839,949\\r\\n889,957 -> 807,957\\r\\n399,431 -> 105,725\\r\\n548,331 -> 548,821\\r\\n790,844 -> 43,97\\r\\n675,671 -> 221,671\\r\\n874,143 -> 620,397\\r\\n205,435 -> 205,546\\r\\n521,434 -> 822,133\\r\\n141,86 -> 257,86\\r\\n427,28 -> 290,165\\r\\n49,694 -> 567,694\\r\\n846,344 -> 266,924\\r\\n425,910 -> 433,918\\r\\n956,498 -> 485,27\\r\\n798,498 -> 798,634\\r\\n879,13 -> 766,126\\r\\n737,475 -> 737,425\\r\\n338,473 -> 425,386\\r\\n510,615 -> 214,319\\r\\n758,415 -> 758,490\\r\\n969,208 -> 239,938\\r\\n917,188 -> 917,528\\r\\n34,820 -> 806,820\\r\\n85,633 -> 857,633\\r\\n262,355 -> 262,748\\r\\n373,784 -> 971,186\\r\\n146,577 -> 60,663\\r\\n613,570 -> 613,199\\r\\n300,319 -> 300,108\\r\\n764,171 -> 764,17\\r\\n555,921 -> 555,825\\r\\n241,197 -> 770,197\\r\\n600,832 -> 600,807\\r\\n934,987 -> 20,73\\r\\n960,730 -> 837,730\\r\\n976,50 -> 46,980\\r\\n829,834 -> 153,158\\r\\n785,835 -> 785,58\\r\\n586,633 -> 689,736\\r\\n804,250 -> 348,706\\r\\n226,539 -> 16,539\\r\\n411,940 -> 98,940\\r\\n289,589 -> 893,589\\r\\n738,616 -> 738,55\\r\\n225,54 -> 542,54\\r\\n793,246 -> 303,736\\r\\n332,752 -> 984,100\\r\\n413,18 -> 839,444\\r\\n840,122 -> 840,233\\r\\n989,970 -> 215,196\\r\\n329,361 -> 573,605\\r\\n242,537 -> 242,619\\r\\n943,898 -> 943,535\\r\\n469,865 -> 501,833\\r\\n226,717 -> 196,687\\r\\n819,803 -> 712,803\\r\\n532,663 -> 532,672\\r\\n61,931 -> 940,52\\r\\n623,218 -> 274,567\\r\\n281,326 -> 281,790\\r\\n815,176 -> 679,176\\r\\n790,862 -> 942,710\\r\\n18,771 -> 18,514\\r\\n479,377 -> 309,377\\r\\n704,402 -> 704,150\\r\\n961,335 -> 492,335\\r\\n745,829 -> 745,477\\r\\n556,543 -> 771,543\\r\\n832,336 -> 917,251\\r\\n742,755 -> 742,174\\r\\n206,735 -> 493,735\\r\\n151,216 -> 312,55\\r\\n445,157 -> 615,157\\r\\n781,143 -> 781,76\\r\\n833,717 -> 514,398\\r\\n357,14 -> 357,36\\r\\n771,405 -> 771,422\\r\\n662,886 -> 169,886\\r\\n689,990 -> 22,990\\r\\n680,445 -> 379,445\\r\\n92,369 -> 502,779\\r\\n64,948 -> 64,363\\r\\n295,957 -> 976,276\\r\\n113,920 -> 634,399\\r\\n542,662 -> 305,899\\r\\n566,514 -> 566,645\\r\\n528,106 -> 549,106\\r\\n205,367 -> 821,367\\r\\n313,105 -> 313,928\\r\\n532,177 -> 532,664\\r\\n862,773 -> 905,816\\r\\n800,796 -> 911,796\\r\\n870,80 -> 11,939\\r\\n188,900 -> 154,900\\r\\n420,509 -> 520,609\\r\\n540,863 -> 28,863\\r\\n31,72 -> 78,72\\r\\n823,648 -> 503,648\\r\\n879,252 -> 606,252\\r\\n677,117 -> 677,507\\r\\n743,303 -> 196,850\\r\\n220,491 -> 220,891\\r\\n216,815 -> 577,815\\r\\n540,819 -> 745,819\\r\\n152,721 -> 382,721\\r\\n280,745 -> 985,745\\r\\n479,367 -> 358,488\\r\\n913,413 -> 649,413\\r\\n40,678 -> 817,678\\r\\n467,533 -> 467,214\\r\\n132,68 -> 843,779\\r\\n519,109 -> 669,259\\r\\n619,791 -> 221,791\\r\\n114,622 -> 628,622\\r\\n951,636 -> 866,636\\r\\n172,569 -> 775,569\\r\\n244,972 -> 173,972\\r\\n283,64 -> 739,520\\r\\n68,604 -> 68,156\\r\\n529,30 -> 529,925\\r\\n813,883 -> 137,883\\r\\n893,231 -> 629,231\\r\\n673,658 -> 673,389\\r\\n725,899 -> 218,899\\r\\n317,318 -> 105,318\\r\\n82,706 -> 100,688\\r\\n222,227 -> 440,227\\r\\n810,371 -> 810,985\\r\\n414,321 -> 289,446\\r\\n901,158 -> 260,799\\r\\n198,967 -> 717,448\\r\\n928,454 -> 875,454\\r\\n974,437 -> 974,764\\r\\n657,13 -> 760,13\\r\\n498,966 -> 976,966\\r\\n66,104 -> 66,15\\r\\n773,569 -> 980,362\\r\\n420,496 -> 403,513\\r\\n57,920 -> 85,920\\r\\n879,551 -> 879,662\\r\\n98,395 -> 98,398\\r\\n483,685 -> 483,55\\r\\n222,935 -> 586,935\\r\\n89,926 -> 807,208\\r\\n744,160 -> 744,462\\r\\n588,973 -> 588,548\\r\\n312,572 -> 38,298\\r\\n27,131 -> 552,656\\r\\n591,935 -> 591,86\\r\\n907,478 -> 907,279\\r\\n981,75 -> 981,972\\r\\n316,947 -> 935,947\\r\\n906,38 -> 906,216\\r\\n374,521 -> 345,550\\r\\n579,29 -> 579,107\\r\\n444,636 -> 444,557\\r\\n458,608 -> 830,980\\r\\n479,839 -> 155,515\\r\\n766,600 -> 766,71\\r\\n976,965 -> 31,20\\r\\n928,49 -> 269,708\\r\\n787,238 -> 787,983\\r\\n583,742 -> 112,742\\r\\n966,268 -> 554,680\\r\\n671,354 -> 671,966\\r\\n274,340 -> 274,894\\r\\n673,185 -> 607,185\\r\\n73,171 -> 874,171\\r\\n861,526 -> 861,410\\r\\n739,591 -> 739,138\\r\\n209,355 -> 209,146\\r\\n286,501 -> 887,501\\r\\n495,902 -> 700,902\\r\\n192,889 -> 821,260\\r\\n400,21 -> 154,21\\r\\n861,301 -> 325,301\\r\\n552,990 -> 511,990\\r\\n908,21 -> 11,918\\r\\n127,724 -> 821,30\\r\\n935,46 -> 170,811\\r\\n947,91 -> 374,91\\r\\n625,420 -> 265,60\\r\\n214,228 -> 546,228\\r\\n375,547 -> 715,887\\r\\n516,350 -> 870,350\\r\\n610,138 -> 665,193\\r\\n214,621 -> 678,621\\r\\n497,248 -> 600,145\\r\\n549,558 -> 576,558\\r\\n364,537 -> 364,312\\r\\n840,324 -> 310,854\\r\\n441,945 -> 441,458\\r\\n459,531 -> 459,100\\r\\n937,113 -> 150,900\\r\\n277,405 -> 259,405\\r\\n409,527 -> 409,359\\r\\n534,766 -> 534,740\\r\\n534,934 -> 681,934\\r\\n456,419 -> 83,419\\r\\n871,986 -> 873,986\\r\\n14,59 -> 916,961\\r\\n911,963 -> 971,963\\r\\n25,325 -> 139,211\\r\\n937,184 -> 354,767\\r\\n460,416 -> 289,245\\r\\n193,171 -> 861,839\\r\\n840,299 -> 840,911\\r\\n531,45 -> 531,619\\r\\n599,315 -> 455,315\\r\\n455,97 -> 455,811\\r\\n38,748 -> 392,748\\r\\n841,79 -> 841,88\\r\\n105,571 -> 105,545\\r\\n801,458 -> 344,458\\r\\n491,535 -> 558,535\\r\\n835,814 -> 223,202\\r\\n563,85 -> 405,85\\r\\n410,396 -> 600,396\\r\\n273,670 -> 818,125\\r\\n671,647 -> 817,647\\r\\n46,892 -> 678,260\\r\\n456,736 -> 110,736\\r\\n962,941 -> 619,598\\r\\n388,406 -> 53,71\\r\\n558,895 -> 227,564\\r\\n944,182 -> 807,319\\r\\n484,898 -> 59,473\\r\\n808,214 -> 488,534\\r\\n451,679 -> 155,383\\r\\n858,931 -> 381,931\\r\\n723,377 -> 723,281\\r\\n694,283 -> 182,795\\r\\n385,191 -> 320,256\\r\\n33,380 -> 584,931\\r\\n480,91 -> 817,91\\r\\n677,91 -> 677,126\\r\\n291,651 -> 760,182\\r\\n832,962 -> 153,283\\r\\n38,60 -> 479,501\\r\\n249,350 -> 789,350\\r\\n603,341 -> 266,678\\r\\n52,303 -> 52,102\\r\\n911,201 -> 559,201\\r\\n46,210 -> 46,275\\r\\n960,212 -> 554,212\\r\\n375,374 -> 169,580\\r\\n10,10 -> 989,989\\r\\n844,140 -> 40,944\\r\\n916,408 -> 916,815\\r\\n834,401 -> 834,169\\r\\n553,479 -> 784,248\\r\\n543,452 -> 543,848\\r\\n854,910 -> 334,390\\r\\n685,491 -> 793,491\\r\\n552,943 -> 709,943\\r\\n723,367 -> 124,367\\r\\n95,55 -> 881,841\\r\\n155,267 -> 573,267\\r\\n59,357 -> 84,357\\r\\n218,435 -> 218,344\\r\\n491,584 -> 491,649\\r\\n676,445 -> 676,333\\r\\n361,618 -> 783,618\\r\\n220,295 -> 220,267\\r\\n668,758 -> 299,389\\r\\n965,845 -> 674,845\\r\\n285,603 -> 47,603\\r\\n853,417 -> 853,757\\r\\n859,906 -> 856,906\\r\\n55,364 -> 753,364\\r\\n893,474 -> 978,474\\r\\n602,32 -> 58,576\\r\\n171,445 -> 96,370\\r\\n214,592 -> 214,286\\r\\n400,946 -> 745,946\\r\\n559,37 -> 112,484\\r\\n624,510 -> 90,510\\r\\n329,714 -> 329,850\\r\\n458,287 -> 657,287\\r\\n99,385 -> 99,949\\r\\n50,736 -> 719,67\\r\\n273,195 -> 273,306\\r\\n490,902 -> 490,798\\r\\n619,131 -> 921,131\\r\\n266,652 -> 266,730\\r\\n745,661 -> 745,555\\r\\n311,878 -> 311,679\\r\\n491,982 -> 643,830\\r\\n735,875 -> 816,875\\r\\n936,353 -> 936,529\\r\\n792,467 -> 565,467\\r\\n141,140 -> 141,988\\r\\n98,171 -> 414,487\\r\\n257,259 -> 257,484\\r\\n24,41 -> 969,986\\r\\n302,453 -> 223,453\\r\\n807,363 -> 492,678\\r\\n823,22 -> 835,10\\r\\n301,94 -> 399,94\\r\\n946,110 -> 248,808\\r\\n983,985 -> 21,23\\r\\n510,145 -> 510,58\\r\\n13,661 -> 13,639\\r\\n218,260 -> 218,54\\r\\n475,846 -> 475,770\\r\\n458,644 -> 458,529\\r\\n912,934 -> 912,136\\r\\n152,823 -> 550,823\\r\\n136,470 -> 443,470\\r\\n253,871 -> 905,219\\r\\n765,212 -> 793,240\\r\\n11,402 -> 11,42\\r\\n348,813 -> 348,768\\r\\n368,321 -> 823,776\\r\\n343,495 -> 343,809\\r\\n117,616 -> 117,273\\r\\n92,92 -> 732,92\\r\\n914,31 -> 28,917\\r\\n259,944 -> 214,944\\r\\n630,759 -> 462,759\\r\\n134,653 -> 134,610\\r\\n14,989 -> 988,15\\r\\n139,181 -> 139,451\\r\\n598,636 -> 598,442\\r\\n263,42 -> 686,465'}"
            ]
          },
          "metadata": {},
          "execution_count": 2
        }
      ]
    },
    {
      "cell_type": "markdown",
      "metadata": {
        "id": "Jf30SOmRAJOU"
      },
      "source": [
        "# Parte 1"
      ]
    },
    {
      "cell_type": "code",
      "metadata": {
        "colab": {
          "base_uri": "https://localhost:8080/"
        },
        "id": "SfRb0_0t7EX9",
        "outputId": "0ae8c86f-3246-4de1-d578-22d8501af664"
      },
      "source": [
        "# Abrimos el archivo de datos\n",
        "with open(\"Data.txt\") as f:\n",
        "\n",
        "  # Declaramos variables para el cruce de lineas\n",
        "  lines = {}\n",
        "  coord_1 = ()\n",
        "  coord_2 = ()\n",
        "  \n",
        "  # Por cada línea en el documento\n",
        "  for line in f:\n",
        "    # Limpiamos las coordenadas de principio C1 y final C2\n",
        "    coord_1 = line.split(' -> ')[0].replace('\\n', '').split(',')\n",
        "    coord_2 = line.split(' -> ')[1].replace('\\n', '').split(',')\n",
        "    \n",
        "    # Si la coordenada x1 es igual a x2\n",
        "    if coord_1[0] == coord_2[0]:\n",
        "        # Definimos el rango de valores entre y1 y y2, por donde pasará la línea\n",
        "        for i in range(min(int(coord_1[1]), int(coord_2[1])), max(int(coord_1[1]), int(coord_2[1])) + 1):\n",
        "            # Guardamos en un diccionario los valores por los cuales pasa la línea \n",
        "            # y el número de veces que se superpone en las coordenadas  \n",
        "            lines[(int(coord_1[0]), i)] = lines.get((int(coord_1[0]), i), 0) + 1\n",
        "    # Si la coordenada y1 es igual a y2\n",
        "    if coord_1[1] == coord_2[1]:\n",
        "        # Definimos el rango de valores entre x1 y x2, por donde pasará la línea\n",
        "        for i in range(min(int(coord_1[0]), int(coord_2[0])), max(int(coord_1[0]), int(coord_2[0])) + 1):\n",
        "            # Guardamos en un diccionario los valores por los cuales pasa la línea \n",
        "            # y el número de veces que se superpone en las coordenadas  \n",
        "            lines[(i, int(coord_1[1]))] = lines.get((i, int(coord_1[1])), 0) + 1\n",
        "\n",
        "# Contando los puntos mayores a 2 exitentes en el diccionario\n",
        "points = 0\n",
        "for k, v in lines.items():\n",
        "    if v >= 2:\n",
        "        points += 1\n",
        "print('Puntos totales: ' + str(points))"
      ],
      "execution_count": 18,
      "outputs": [
        {
          "output_type": "stream",
          "name": "stdout",
          "text": [
            "100408\n",
            "Puntos totales: 5280\n"
          ]
        }
      ]
    },
    {
      "cell_type": "markdown",
      "metadata": {
        "id": "0FYT52Xj-6LS"
      },
      "source": [
        "# Parte 2"
      ]
    },
    {
      "cell_type": "code",
      "metadata": {
        "colab": {
          "base_uri": "https://localhost:8080/"
        },
        "id": "Z4k3RpytEj9i",
        "outputId": "634a455c-b88a-446f-d6e9-4184562ae53b"
      },
      "source": [
        "# Abrimos el archivo de datos\n",
        "with open(\"Data.txt\") as f:\n",
        "  # Variables\n",
        "  lines = {}\n",
        "  coord_1 = ()\n",
        "  coord_2 = ()\n",
        "  \n",
        "  # Por cada una de las coordenadas \n",
        "  for line in f:\n",
        "    # Limpiamos las coordenadas de principio C1 y final C2\n",
        "    x, y = line.split(' -> ')[0].replace('\\n', '').split(',')\n",
        "    coord_1 = (int(x), int(y))\n",
        "    x, y = line.split(' -> ')[1].replace('\\n', '').split(',')\n",
        "    coord_2 = (int(x), int(y))\n",
        "\n",
        "    # Para calcular las líneas horizontales y verticales\n",
        "    if coord_1[1] == coord_2[1]:\n",
        "        for i in range(min(coord_1[0], coord_2[0]), max(coord_1[0], coord_2[0]) + 1):\n",
        "            lines[(i, coord_1[1])] = lines.get((i, coord_1[1]), 0) + 1\n",
        "    elif coord_1[0] == coord_2[0]:\n",
        "        for i in range(min(coord_1[1], coord_2[1]), max(coord_1[1], coord_2[1]) + 1):\n",
        "            lines[(coord_1[0], i)] = lines.get((coord_1[0], i), 0) + 1\n",
        "\n",
        "    # Ahora para calcular las líneas diagonales\n",
        "    # Siempre que las coordenadas no sean iguales en x1==x2 y y1==y2\n",
        "    elif (coord_1[0] != coord_2[0]) and (coord_1[1] != coord_2[1]):\n",
        "        # Si la pendiente de estas coordenadas es 1 hay pendiente de 45°\n",
        "        if ((coord_2[1] - coord_1[1]) / (coord_2[0] - coord_1[0])) == 1.0:\n",
        "            #El rango será la distancia en x existente entre los 2 puntos\n",
        "            for i in range(abs(coord_2[0] - coord_1[0]) + 1):\n",
        "              # Encontramos los mínimos para a partir de estos agregar\n",
        "              # las coordenadas por las que pasará la diagonal en nuestro\n",
        "              # diccionario, documentando los puntos y cuantas veces\n",
        "              # se superponen\n",
        "                x = min(coord_1[0], coord_2[0])\n",
        "                y = min(coord_1[1], coord_2[1])\n",
        "                lines[(x + i, y + i)] = lines.get((x + i, y + i), 0) + 1\n",
        "\n",
        "        # Si la pendiente de estas coordenadas es -1 hay pendiente de 45°\n",
        "        elif (coord_2[1] - coord_1[1]) / (coord_2[0] - coord_1[0]) == -1.0:\n",
        "            #El rango será la distancia en x existente entre los 2 puntos\n",
        "            for i in range(abs(coord_2[0] - coord_1[0]) + 1):\n",
        "              # Encontramos los mínimos para a partir de estos agregar\n",
        "              # las coordenadas por las que pasará la diagonal en nuestro\n",
        "              # diccionario, documentando los puntos y cuantas veces\n",
        "              # se superponen\n",
        "                x = min(coord_1[0], coord_2[0])\n",
        "                y = max(coord_1[1], coord_2[1])\n",
        "                lines[(x + i, y - i)] = lines.get((x + i, y - i), 0) + 1\n",
        "\n",
        "# Contando los puntos mayores a 2 exitentes en el diccionario\n",
        "points = 0\n",
        "for k, v in lines.items():\n",
        "    if v >= 2:\n",
        "        points += 1\n",
        "print('Puntos totales: ' + str(points))"
      ],
      "execution_count": 24,
      "outputs": [
        {
          "output_type": "stream",
          "name": "stdout",
          "text": [
            "Puntos totales: 16716\n"
          ]
        }
      ]
    }
  ]
}